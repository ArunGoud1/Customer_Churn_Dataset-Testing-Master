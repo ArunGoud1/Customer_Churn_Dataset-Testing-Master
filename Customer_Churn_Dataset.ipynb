{
 "cells": [
  {
   "cell_type": "markdown",
   "id": "5f03f02b-9a7b-4eff-9ac2-aceda010b0f2",
   "metadata": {},
   "source": [
    "# Customer_Churn_Dataset-Testing-Master"
   ]
  },
  {
   "cell_type": "code",
   "execution_count": null,
   "id": "4a9cadbe-c0bc-4023-b909-7d200090f52c",
   "metadata": {},
   "outputs": [],
   "source": []
  },
  {
   "cell_type": "code",
   "execution_count": 1,
   "id": "f47b0bc4-fda6-48f8-9943-ebcb56c771b6",
   "metadata": {},
   "outputs": [],
   "source": [
    "import pandas as pd\n",
    "import numpy as np\n",
    "import matplotlib.pyplot as plt              \n",
    "import seaborn as sns"
   ]
  },
  {
   "cell_type": "code",
   "execution_count": null,
   "id": "eead6467-47f4-47a9-8822-33bb06ca42df",
   "metadata": {},
   "outputs": [],
   "source": []
  },
  {
   "cell_type": "code",
   "execution_count": 2,
   "id": "c9fe45bf-8859-4aee-b875-0e4345631a47",
   "metadata": {},
   "outputs": [],
   "source": [
    "Customer = pd.read_csv('customer_churn_dataset-testing-master.csv')"
   ]
  },
  {
   "cell_type": "code",
   "execution_count": null,
   "id": "71b0e8ac-87c4-44ed-8527-b3409c26b68c",
   "metadata": {},
   "outputs": [],
   "source": []
  },
  {
   "cell_type": "code",
   "execution_count": 3,
   "id": "e25f13aa-6051-4c9f-a5f2-d4e2df1baedb",
   "metadata": {},
   "outputs": [
    {
     "data": {
      "text/html": [
       "<div>\n",
       "<style scoped>\n",
       "    .dataframe tbody tr th:only-of-type {\n",
       "        vertical-align: middle;\n",
       "    }\n",
       "\n",
       "    .dataframe tbody tr th {\n",
       "        vertical-align: top;\n",
       "    }\n",
       "\n",
       "    .dataframe thead th {\n",
       "        text-align: right;\n",
       "    }\n",
       "</style>\n",
       "<table border=\"1\" class=\"dataframe\">\n",
       "  <thead>\n",
       "    <tr style=\"text-align: right;\">\n",
       "      <th></th>\n",
       "      <th>CustomerID</th>\n",
       "      <th>Age</th>\n",
       "      <th>Gender</th>\n",
       "      <th>Tenure</th>\n",
       "      <th>Usage Frequency</th>\n",
       "      <th>Support Calls</th>\n",
       "      <th>Payment Delay</th>\n",
       "      <th>Subscription Type</th>\n",
       "      <th>Contract Length</th>\n",
       "      <th>Total Spend</th>\n",
       "      <th>Last Interaction</th>\n",
       "      <th>Churn</th>\n",
       "    </tr>\n",
       "  </thead>\n",
       "  <tbody>\n",
       "    <tr>\n",
       "      <th>0</th>\n",
       "      <td>1</td>\n",
       "      <td>22</td>\n",
       "      <td>Female</td>\n",
       "      <td>25</td>\n",
       "      <td>14</td>\n",
       "      <td>4</td>\n",
       "      <td>27</td>\n",
       "      <td>Basic</td>\n",
       "      <td>Monthly</td>\n",
       "      <td>598</td>\n",
       "      <td>9</td>\n",
       "      <td>1</td>\n",
       "    </tr>\n",
       "    <tr>\n",
       "      <th>1</th>\n",
       "      <td>2</td>\n",
       "      <td>41</td>\n",
       "      <td>Female</td>\n",
       "      <td>28</td>\n",
       "      <td>28</td>\n",
       "      <td>7</td>\n",
       "      <td>13</td>\n",
       "      <td>Standard</td>\n",
       "      <td>Monthly</td>\n",
       "      <td>584</td>\n",
       "      <td>20</td>\n",
       "      <td>0</td>\n",
       "    </tr>\n",
       "    <tr>\n",
       "      <th>2</th>\n",
       "      <td>3</td>\n",
       "      <td>47</td>\n",
       "      <td>Male</td>\n",
       "      <td>27</td>\n",
       "      <td>10</td>\n",
       "      <td>2</td>\n",
       "      <td>29</td>\n",
       "      <td>Premium</td>\n",
       "      <td>Annual</td>\n",
       "      <td>757</td>\n",
       "      <td>21</td>\n",
       "      <td>0</td>\n",
       "    </tr>\n",
       "    <tr>\n",
       "      <th>3</th>\n",
       "      <td>4</td>\n",
       "      <td>35</td>\n",
       "      <td>Male</td>\n",
       "      <td>9</td>\n",
       "      <td>12</td>\n",
       "      <td>5</td>\n",
       "      <td>17</td>\n",
       "      <td>Premium</td>\n",
       "      <td>Quarterly</td>\n",
       "      <td>232</td>\n",
       "      <td>18</td>\n",
       "      <td>0</td>\n",
       "    </tr>\n",
       "    <tr>\n",
       "      <th>4</th>\n",
       "      <td>5</td>\n",
       "      <td>53</td>\n",
       "      <td>Female</td>\n",
       "      <td>58</td>\n",
       "      <td>24</td>\n",
       "      <td>9</td>\n",
       "      <td>2</td>\n",
       "      <td>Standard</td>\n",
       "      <td>Annual</td>\n",
       "      <td>533</td>\n",
       "      <td>18</td>\n",
       "      <td>0</td>\n",
       "    </tr>\n",
       "  </tbody>\n",
       "</table>\n",
       "</div>"
      ],
      "text/plain": [
       "   CustomerID  Age  Gender  Tenure  Usage Frequency  Support Calls  \\\n",
       "0           1   22  Female      25               14              4   \n",
       "1           2   41  Female      28               28              7   \n",
       "2           3   47    Male      27               10              2   \n",
       "3           4   35    Male       9               12              5   \n",
       "4           5   53  Female      58               24              9   \n",
       "\n",
       "   Payment Delay Subscription Type Contract Length  Total Spend  \\\n",
       "0             27             Basic         Monthly          598   \n",
       "1             13          Standard         Monthly          584   \n",
       "2             29           Premium          Annual          757   \n",
       "3             17           Premium       Quarterly          232   \n",
       "4              2          Standard          Annual          533   \n",
       "\n",
       "   Last Interaction  Churn  \n",
       "0                 9      1  \n",
       "1                20      0  \n",
       "2                21      0  \n",
       "3                18      0  \n",
       "4                18      0  "
      ]
     },
     "execution_count": 3,
     "metadata": {},
     "output_type": "execute_result"
    }
   ],
   "source": [
    "Customer.head()"
   ]
  },
  {
   "cell_type": "code",
   "execution_count": null,
   "id": "9f9c6929-ad6f-4587-95bf-91d4de531cbb",
   "metadata": {},
   "outputs": [],
   "source": []
  },
  {
   "cell_type": "code",
   "execution_count": 7,
   "id": "9fb72893-8555-4eb2-872e-d04612c963c3",
   "metadata": {},
   "outputs": [
    {
     "data": {
      "text/html": [
       "<div>\n",
       "<style scoped>\n",
       "    .dataframe tbody tr th:only-of-type {\n",
       "        vertical-align: middle;\n",
       "    }\n",
       "\n",
       "    .dataframe tbody tr th {\n",
       "        vertical-align: top;\n",
       "    }\n",
       "\n",
       "    .dataframe thead th {\n",
       "        text-align: right;\n",
       "    }\n",
       "</style>\n",
       "<table border=\"1\" class=\"dataframe\">\n",
       "  <thead>\n",
       "    <tr style=\"text-align: right;\">\n",
       "      <th></th>\n",
       "      <th>CustomerID</th>\n",
       "      <th>Age</th>\n",
       "      <th>Gender</th>\n",
       "      <th>Tenure</th>\n",
       "      <th>Usage Frequency</th>\n",
       "      <th>Support Calls</th>\n",
       "      <th>Payment Delay</th>\n",
       "      <th>Subscription Type</th>\n",
       "      <th>Contract Length</th>\n",
       "      <th>Total Spend</th>\n",
       "      <th>Last Interaction</th>\n",
       "      <th>Churn</th>\n",
       "    </tr>\n",
       "  </thead>\n",
       "  <tbody>\n",
       "    <tr>\n",
       "      <th>64369</th>\n",
       "      <td>64370</td>\n",
       "      <td>45</td>\n",
       "      <td>Female</td>\n",
       "      <td>33</td>\n",
       "      <td>12</td>\n",
       "      <td>6</td>\n",
       "      <td>21</td>\n",
       "      <td>Basic</td>\n",
       "      <td>Quarterly</td>\n",
       "      <td>947</td>\n",
       "      <td>14</td>\n",
       "      <td>1</td>\n",
       "    </tr>\n",
       "    <tr>\n",
       "      <th>64370</th>\n",
       "      <td>64371</td>\n",
       "      <td>37</td>\n",
       "      <td>Male</td>\n",
       "      <td>6</td>\n",
       "      <td>1</td>\n",
       "      <td>5</td>\n",
       "      <td>22</td>\n",
       "      <td>Standard</td>\n",
       "      <td>Annual</td>\n",
       "      <td>923</td>\n",
       "      <td>9</td>\n",
       "      <td>1</td>\n",
       "    </tr>\n",
       "    <tr>\n",
       "      <th>64371</th>\n",
       "      <td>64372</td>\n",
       "      <td>25</td>\n",
       "      <td>Male</td>\n",
       "      <td>39</td>\n",
       "      <td>14</td>\n",
       "      <td>8</td>\n",
       "      <td>30</td>\n",
       "      <td>Premium</td>\n",
       "      <td>Monthly</td>\n",
       "      <td>327</td>\n",
       "      <td>20</td>\n",
       "      <td>1</td>\n",
       "    </tr>\n",
       "    <tr>\n",
       "      <th>64372</th>\n",
       "      <td>64373</td>\n",
       "      <td>50</td>\n",
       "      <td>Female</td>\n",
       "      <td>18</td>\n",
       "      <td>19</td>\n",
       "      <td>7</td>\n",
       "      <td>22</td>\n",
       "      <td>Standard</td>\n",
       "      <td>Monthly</td>\n",
       "      <td>540</td>\n",
       "      <td>13</td>\n",
       "      <td>1</td>\n",
       "    </tr>\n",
       "    <tr>\n",
       "      <th>64373</th>\n",
       "      <td>64374</td>\n",
       "      <td>52</td>\n",
       "      <td>Female</td>\n",
       "      <td>45</td>\n",
       "      <td>15</td>\n",
       "      <td>9</td>\n",
       "      <td>25</td>\n",
       "      <td>Standard</td>\n",
       "      <td>Monthly</td>\n",
       "      <td>696</td>\n",
       "      <td>22</td>\n",
       "      <td>1</td>\n",
       "    </tr>\n",
       "  </tbody>\n",
       "</table>\n",
       "</div>"
      ],
      "text/plain": [
       "       CustomerID  Age  Gender  Tenure  Usage Frequency  Support Calls  \\\n",
       "64369       64370   45  Female      33               12              6   \n",
       "64370       64371   37    Male       6                1              5   \n",
       "64371       64372   25    Male      39               14              8   \n",
       "64372       64373   50  Female      18               19              7   \n",
       "64373       64374   52  Female      45               15              9   \n",
       "\n",
       "       Payment Delay Subscription Type Contract Length  Total Spend  \\\n",
       "64369             21             Basic       Quarterly          947   \n",
       "64370             22          Standard          Annual          923   \n",
       "64371             30           Premium         Monthly          327   \n",
       "64372             22          Standard         Monthly          540   \n",
       "64373             25          Standard         Monthly          696   \n",
       "\n",
       "       Last Interaction  Churn  \n",
       "64369                14      1  \n",
       "64370                 9      1  \n",
       "64371                20      1  \n",
       "64372                13      1  \n",
       "64373                22      1  "
      ]
     },
     "execution_count": 7,
     "metadata": {},
     "output_type": "execute_result"
    }
   ],
   "source": [
    "Customer.tail()"
   ]
  },
  {
   "cell_type": "code",
   "execution_count": null,
   "id": "45373c52-48a0-43eb-a356-23eef67baa47",
   "metadata": {},
   "outputs": [],
   "source": []
  },
  {
   "cell_type": "code",
   "execution_count": 9,
   "id": "316e298c-ecb1-43ec-b8bc-8aa853c62a87",
   "metadata": {},
   "outputs": [
    {
     "name": "stdout",
     "output_type": "stream",
     "text": [
      "<class 'pandas.core.frame.DataFrame'>\n",
      "RangeIndex: 64374 entries, 0 to 64373\n",
      "Data columns (total 12 columns):\n",
      " #   Column             Non-Null Count  Dtype \n",
      "---  ------             --------------  ----- \n",
      " 0   CustomerID         64374 non-null  int64 \n",
      " 1   Age                64374 non-null  int64 \n",
      " 2   Gender             64374 non-null  object\n",
      " 3   Tenure             64374 non-null  int64 \n",
      " 4   Usage Frequency    64374 non-null  int64 \n",
      " 5   Support Calls      64374 non-null  int64 \n",
      " 6   Payment Delay      64374 non-null  int64 \n",
      " 7   Subscription Type  64374 non-null  object\n",
      " 8   Contract Length    64374 non-null  object\n",
      " 9   Total Spend        64374 non-null  int64 \n",
      " 10  Last Interaction   64374 non-null  int64 \n",
      " 11  Churn              64374 non-null  int64 \n",
      "dtypes: int64(9), object(3)\n",
      "memory usage: 5.9+ MB\n"
     ]
    }
   ],
   "source": [
    "Customer.info()"
   ]
  },
  {
   "cell_type": "code",
   "execution_count": null,
   "id": "13f11366-08a0-43d2-a9ed-6a11a9fb00af",
   "metadata": {},
   "outputs": [],
   "source": []
  },
  {
   "cell_type": "code",
   "execution_count": 11,
   "id": "587e7c46-0874-4f11-9286-c9b4f73cae3a",
   "metadata": {},
   "outputs": [
    {
     "data": {
      "text/html": [
       "<div>\n",
       "<style scoped>\n",
       "    .dataframe tbody tr th:only-of-type {\n",
       "        vertical-align: middle;\n",
       "    }\n",
       "\n",
       "    .dataframe tbody tr th {\n",
       "        vertical-align: top;\n",
       "    }\n",
       "\n",
       "    .dataframe thead th {\n",
       "        text-align: right;\n",
       "    }\n",
       "</style>\n",
       "<table border=\"1\" class=\"dataframe\">\n",
       "  <thead>\n",
       "    <tr style=\"text-align: right;\">\n",
       "      <th></th>\n",
       "      <th>CustomerID</th>\n",
       "      <th>Age</th>\n",
       "      <th>Tenure</th>\n",
       "      <th>Usage Frequency</th>\n",
       "      <th>Support Calls</th>\n",
       "      <th>Payment Delay</th>\n",
       "      <th>Total Spend</th>\n",
       "      <th>Last Interaction</th>\n",
       "      <th>Churn</th>\n",
       "    </tr>\n",
       "  </thead>\n",
       "  <tbody>\n",
       "    <tr>\n",
       "      <th>count</th>\n",
       "      <td>64374.000000</td>\n",
       "      <td>64374.000000</td>\n",
       "      <td>64374.000000</td>\n",
       "      <td>64374.000000</td>\n",
       "      <td>64374.000000</td>\n",
       "      <td>64374.000000</td>\n",
       "      <td>64374.000000</td>\n",
       "      <td>64374.000000</td>\n",
       "      <td>64374.000000</td>\n",
       "    </tr>\n",
       "    <tr>\n",
       "      <th>mean</th>\n",
       "      <td>32187.500000</td>\n",
       "      <td>41.970982</td>\n",
       "      <td>31.994827</td>\n",
       "      <td>15.080234</td>\n",
       "      <td>5.400690</td>\n",
       "      <td>17.133952</td>\n",
       "      <td>541.023379</td>\n",
       "      <td>15.498850</td>\n",
       "      <td>0.473685</td>\n",
       "    </tr>\n",
       "    <tr>\n",
       "      <th>std</th>\n",
       "      <td>18583.317451</td>\n",
       "      <td>13.924911</td>\n",
       "      <td>17.098234</td>\n",
       "      <td>8.816470</td>\n",
       "      <td>3.114005</td>\n",
       "      <td>8.852211</td>\n",
       "      <td>260.874809</td>\n",
       "      <td>8.638436</td>\n",
       "      <td>0.499311</td>\n",
       "    </tr>\n",
       "    <tr>\n",
       "      <th>min</th>\n",
       "      <td>1.000000</td>\n",
       "      <td>18.000000</td>\n",
       "      <td>1.000000</td>\n",
       "      <td>1.000000</td>\n",
       "      <td>0.000000</td>\n",
       "      <td>0.000000</td>\n",
       "      <td>100.000000</td>\n",
       "      <td>1.000000</td>\n",
       "      <td>0.000000</td>\n",
       "    </tr>\n",
       "    <tr>\n",
       "      <th>25%</th>\n",
       "      <td>16094.250000</td>\n",
       "      <td>30.000000</td>\n",
       "      <td>18.000000</td>\n",
       "      <td>7.000000</td>\n",
       "      <td>3.000000</td>\n",
       "      <td>10.000000</td>\n",
       "      <td>313.000000</td>\n",
       "      <td>8.000000</td>\n",
       "      <td>0.000000</td>\n",
       "    </tr>\n",
       "    <tr>\n",
       "      <th>50%</th>\n",
       "      <td>32187.500000</td>\n",
       "      <td>42.000000</td>\n",
       "      <td>33.000000</td>\n",
       "      <td>15.000000</td>\n",
       "      <td>6.000000</td>\n",
       "      <td>19.000000</td>\n",
       "      <td>534.000000</td>\n",
       "      <td>15.000000</td>\n",
       "      <td>0.000000</td>\n",
       "    </tr>\n",
       "    <tr>\n",
       "      <th>75%</th>\n",
       "      <td>48280.750000</td>\n",
       "      <td>54.000000</td>\n",
       "      <td>47.000000</td>\n",
       "      <td>23.000000</td>\n",
       "      <td>8.000000</td>\n",
       "      <td>25.000000</td>\n",
       "      <td>768.000000</td>\n",
       "      <td>23.000000</td>\n",
       "      <td>1.000000</td>\n",
       "    </tr>\n",
       "    <tr>\n",
       "      <th>max</th>\n",
       "      <td>64374.000000</td>\n",
       "      <td>65.000000</td>\n",
       "      <td>60.000000</td>\n",
       "      <td>30.000000</td>\n",
       "      <td>10.000000</td>\n",
       "      <td>30.000000</td>\n",
       "      <td>1000.000000</td>\n",
       "      <td>30.000000</td>\n",
       "      <td>1.000000</td>\n",
       "    </tr>\n",
       "  </tbody>\n",
       "</table>\n",
       "</div>"
      ],
      "text/plain": [
       "         CustomerID           Age        Tenure  Usage Frequency  \\\n",
       "count  64374.000000  64374.000000  64374.000000     64374.000000   \n",
       "mean   32187.500000     41.970982     31.994827        15.080234   \n",
       "std    18583.317451     13.924911     17.098234         8.816470   \n",
       "min        1.000000     18.000000      1.000000         1.000000   \n",
       "25%    16094.250000     30.000000     18.000000         7.000000   \n",
       "50%    32187.500000     42.000000     33.000000        15.000000   \n",
       "75%    48280.750000     54.000000     47.000000        23.000000   \n",
       "max    64374.000000     65.000000     60.000000        30.000000   \n",
       "\n",
       "       Support Calls  Payment Delay   Total Spend  Last Interaction  \\\n",
       "count   64374.000000   64374.000000  64374.000000      64374.000000   \n",
       "mean        5.400690      17.133952    541.023379         15.498850   \n",
       "std         3.114005       8.852211    260.874809          8.638436   \n",
       "min         0.000000       0.000000    100.000000          1.000000   \n",
       "25%         3.000000      10.000000    313.000000          8.000000   \n",
       "50%         6.000000      19.000000    534.000000         15.000000   \n",
       "75%         8.000000      25.000000    768.000000         23.000000   \n",
       "max        10.000000      30.000000   1000.000000         30.000000   \n",
       "\n",
       "              Churn  \n",
       "count  64374.000000  \n",
       "mean       0.473685  \n",
       "std        0.499311  \n",
       "min        0.000000  \n",
       "25%        0.000000  \n",
       "50%        0.000000  \n",
       "75%        1.000000  \n",
       "max        1.000000  "
      ]
     },
     "execution_count": 11,
     "metadata": {},
     "output_type": "execute_result"
    }
   ],
   "source": [
    "Customer.describe()"
   ]
  },
  {
   "cell_type": "code",
   "execution_count": null,
   "id": "9d00cd8d-940e-43a8-a6d5-a9b62c921729",
   "metadata": {},
   "outputs": [],
   "source": []
  },
  {
   "cell_type": "code",
   "execution_count": 13,
   "id": "600645c8-45e3-47ff-93ea-4f8aeab6cc13",
   "metadata": {},
   "outputs": [
    {
     "data": {
      "text/plain": [
       "CustomerID           False\n",
       "Age                  False\n",
       "Gender               False\n",
       "Tenure               False\n",
       "Usage Frequency      False\n",
       "Support Calls        False\n",
       "Payment Delay        False\n",
       "Subscription Type    False\n",
       "Contract Length      False\n",
       "Total Spend          False\n",
       "Last Interaction     False\n",
       "Churn                False\n",
       "dtype: bool"
      ]
     },
     "execution_count": 13,
     "metadata": {},
     "output_type": "execute_result"
    }
   ],
   "source": [
    "Customer.isna().any()"
   ]
  },
  {
   "cell_type": "code",
   "execution_count": null,
   "id": "15de343d-0e4c-4a55-8653-bad1138bff74",
   "metadata": {},
   "outputs": [],
   "source": []
  },
  {
   "cell_type": "code",
   "execution_count": 15,
   "id": "c0b872ca-8e6d-4163-8a5f-8fea0faf54d8",
   "metadata": {},
   "outputs": [
    {
     "data": {
      "text/plain": [
       "CustomerID           0\n",
       "Age                  0\n",
       "Gender               0\n",
       "Tenure               0\n",
       "Usage Frequency      0\n",
       "Support Calls        0\n",
       "Payment Delay        0\n",
       "Subscription Type    0\n",
       "Contract Length      0\n",
       "Total Spend          0\n",
       "Last Interaction     0\n",
       "Churn                0\n",
       "dtype: int64"
      ]
     },
     "execution_count": 15,
     "metadata": {},
     "output_type": "execute_result"
    }
   ],
   "source": [
    "Customer.isna().sum()"
   ]
  },
  {
   "cell_type": "code",
   "execution_count": null,
   "id": "6065b345-b704-4025-97a9-f9bbd5368dd9",
   "metadata": {},
   "outputs": [],
   "source": []
  },
  {
   "cell_type": "markdown",
   "id": "06f7b97e-da30-4dad-a3c7-a3720eb27cfb",
   "metadata": {},
   "source": [
    "# -----QUESTION-----"
   ]
  },
  {
   "cell_type": "markdown",
   "id": "5714e2af-35b9-4ded-b1e2-cf1d16f1b131",
   "metadata": {},
   "source": [
    "## -->Customer Overview Section:\n",
    "\n",
    "1) What is the gender distribution of customers? \n",
    "2) What is the age distribution across customers?\n",
    "3) What is the average tenure of customers?\n",
    "4) How does tenure vary by subscription type?\n"
   ]
  },
  {
   "cell_type": "code",
   "execution_count": null,
   "id": "a8362775-41fe-43a3-aa7f-b500ffcdb931",
   "metadata": {},
   "outputs": [],
   "source": []
  },
  {
   "cell_type": "code",
   "execution_count": null,
   "id": "5e8108d9-a0dc-4413-a4c0-65d2faf679bb",
   "metadata": {},
   "outputs": [],
   "source": []
  },
  {
   "cell_type": "markdown",
   "id": "c291bad1-acff-4c87-95c1-afd59c87617d",
   "metadata": {},
   "source": [
    "## 1) What is the gender distribution of customers?"
   ]
  },
  {
   "cell_type": "code",
   "execution_count": 25,
   "id": "d7d58d18-be3c-4725-b5da-02159145f5f6",
   "metadata": {},
   "outputs": [
    {
     "data": {
      "text/html": [
       "<div>\n",
       "<style scoped>\n",
       "    .dataframe tbody tr th:only-of-type {\n",
       "        vertical-align: middle;\n",
       "    }\n",
       "\n",
       "    .dataframe tbody tr th {\n",
       "        vertical-align: top;\n",
       "    }\n",
       "\n",
       "    .dataframe thead th {\n",
       "        text-align: right;\n",
       "    }\n",
       "</style>\n",
       "<table border=\"1\" class=\"dataframe\">\n",
       "  <thead>\n",
       "    <tr style=\"text-align: right;\">\n",
       "      <th></th>\n",
       "      <th>CustomerID</th>\n",
       "      <th>Age</th>\n",
       "      <th>Gender</th>\n",
       "      <th>Tenure</th>\n",
       "      <th>Usage Frequency</th>\n",
       "      <th>Support Calls</th>\n",
       "      <th>Payment Delay</th>\n",
       "      <th>Subscription Type</th>\n",
       "      <th>Contract Length</th>\n",
       "      <th>Total Spend</th>\n",
       "      <th>Last Interaction</th>\n",
       "      <th>Churn</th>\n",
       "    </tr>\n",
       "  </thead>\n",
       "  <tbody>\n",
       "    <tr>\n",
       "      <th>0</th>\n",
       "      <td>1</td>\n",
       "      <td>22</td>\n",
       "      <td>Female</td>\n",
       "      <td>25</td>\n",
       "      <td>14</td>\n",
       "      <td>4</td>\n",
       "      <td>27</td>\n",
       "      <td>Basic</td>\n",
       "      <td>Monthly</td>\n",
       "      <td>598</td>\n",
       "      <td>9</td>\n",
       "      <td>1</td>\n",
       "    </tr>\n",
       "    <tr>\n",
       "      <th>1</th>\n",
       "      <td>2</td>\n",
       "      <td>41</td>\n",
       "      <td>Female</td>\n",
       "      <td>28</td>\n",
       "      <td>28</td>\n",
       "      <td>7</td>\n",
       "      <td>13</td>\n",
       "      <td>Standard</td>\n",
       "      <td>Monthly</td>\n",
       "      <td>584</td>\n",
       "      <td>20</td>\n",
       "      <td>0</td>\n",
       "    </tr>\n",
       "    <tr>\n",
       "      <th>2</th>\n",
       "      <td>3</td>\n",
       "      <td>47</td>\n",
       "      <td>Male</td>\n",
       "      <td>27</td>\n",
       "      <td>10</td>\n",
       "      <td>2</td>\n",
       "      <td>29</td>\n",
       "      <td>Premium</td>\n",
       "      <td>Annual</td>\n",
       "      <td>757</td>\n",
       "      <td>21</td>\n",
       "      <td>0</td>\n",
       "    </tr>\n",
       "    <tr>\n",
       "      <th>3</th>\n",
       "      <td>4</td>\n",
       "      <td>35</td>\n",
       "      <td>Male</td>\n",
       "      <td>9</td>\n",
       "      <td>12</td>\n",
       "      <td>5</td>\n",
       "      <td>17</td>\n",
       "      <td>Premium</td>\n",
       "      <td>Quarterly</td>\n",
       "      <td>232</td>\n",
       "      <td>18</td>\n",
       "      <td>0</td>\n",
       "    </tr>\n",
       "    <tr>\n",
       "      <th>4</th>\n",
       "      <td>5</td>\n",
       "      <td>53</td>\n",
       "      <td>Female</td>\n",
       "      <td>58</td>\n",
       "      <td>24</td>\n",
       "      <td>9</td>\n",
       "      <td>2</td>\n",
       "      <td>Standard</td>\n",
       "      <td>Annual</td>\n",
       "      <td>533</td>\n",
       "      <td>18</td>\n",
       "      <td>0</td>\n",
       "    </tr>\n",
       "  </tbody>\n",
       "</table>\n",
       "</div>"
      ],
      "text/plain": [
       "   CustomerID  Age  Gender  Tenure  Usage Frequency  Support Calls  \\\n",
       "0           1   22  Female      25               14              4   \n",
       "1           2   41  Female      28               28              7   \n",
       "2           3   47    Male      27               10              2   \n",
       "3           4   35    Male       9               12              5   \n",
       "4           5   53  Female      58               24              9   \n",
       "\n",
       "   Payment Delay Subscription Type Contract Length  Total Spend  \\\n",
       "0             27             Basic         Monthly          598   \n",
       "1             13          Standard         Monthly          584   \n",
       "2             29           Premium          Annual          757   \n",
       "3             17           Premium       Quarterly          232   \n",
       "4              2          Standard          Annual          533   \n",
       "\n",
       "   Last Interaction  Churn  \n",
       "0                 9      1  \n",
       "1                20      0  \n",
       "2                21      0  \n",
       "3                18      0  \n",
       "4                18      0  "
      ]
     },
     "execution_count": 25,
     "metadata": {},
     "output_type": "execute_result"
    }
   ],
   "source": [
    "Customer.head()"
   ]
  },
  {
   "cell_type": "code",
   "execution_count": null,
   "id": "96dad3c6-b545-4804-9c2f-bf8616b2486b",
   "metadata": {},
   "outputs": [],
   "source": []
  },
  {
   "cell_type": "code",
   "execution_count": 27,
   "id": "f5d811cf-395c-494f-a280-7746bb1af4cd",
   "metadata": {},
   "outputs": [],
   "source": [
    "gender_distribution = Customer[\"Gender\"].value_counts()"
   ]
  },
  {
   "cell_type": "code",
   "execution_count": 31,
   "id": "a0b9ef50-47f1-4861-a39c-e51b7d4af4ac",
   "metadata": {},
   "outputs": [
    {
     "data": {
      "text/plain": [
       "Gender\n",
       "Female    34353\n",
       "Male      30021\n",
       "Name: count, dtype: int64"
      ]
     },
     "execution_count": 31,
     "metadata": {},
     "output_type": "execute_result"
    }
   ],
   "source": [
    "gender_distribution"
   ]
  },
  {
   "cell_type": "code",
   "execution_count": null,
   "id": "5c012089-ad7a-4590-b5e6-0c847bff5c85",
   "metadata": {},
   "outputs": [],
   "source": []
  },
  {
   "cell_type": "code",
   "execution_count": 33,
   "id": "5ae26895-5b4f-4a07-a8a5-04509ef46405",
   "metadata": {},
   "outputs": [
    {
     "name": "stdout",
     "output_type": "stream",
     "text": [
      "Gender_Distribution is  : Gender\n",
      "Female    34353\n",
      "Male      30021\n",
      "Name: count, dtype: int64\n"
     ]
    }
   ],
   "source": [
    "print(\"Gender_Distribution is  :\",gender_distribution)"
   ]
  },
  {
   "cell_type": "code",
   "execution_count": 86,
   "id": "852e770d-6bf3-4ccd-9b25-32b0c9e5411f",
   "metadata": {},
   "outputs": [
    {
     "data": {
      "text/plain": [
       "<Axes: title={'center': 'Gender_Distribution of Customers'}, xlabel='Gender', ylabel='count'>"
      ]
     },
     "execution_count": 86,
     "metadata": {},
     "output_type": "execute_result"
    },
    {
     "data": {
      "image/png": "[encoded data removed]",
      "text/plain": [
       "<Figure size 640x480 with 1 Axes>"
      ]
     },
     "metadata": {},
     "output_type": "display_data"
    }
   ],
   "source": [
    "plt.title(\"Gender_Distribution of Customers\")\n",
    "sns.barplot(data=gender_distribution,color=\"orange\")"
   ]
  },
  {
   "cell_type": "code",
   "execution_count": null,
   "id": "bd0470e1-9d75-4887-906f-99afe15a9bf2",
   "metadata": {},
   "outputs": [],
   "source": []
  },
  {
   "cell_type": "markdown",
   "id": "e58dfed8-906d-4a1f-a754-7f5bc5bcd011",
   "metadata": {},
   "source": [
    "## 2) What is the age distribution across customers?"
   ]
  },
  {
   "cell_type": "code",
   "execution_count": 50,
   "id": "7f4e1bcb-928f-4da3-be90-bf1ada9c73bb",
   "metadata": {},
   "outputs": [
    {
     "data": {
      "text/html": [
       "<div>\n",
       "<style scoped>\n",
       "    .dataframe tbody tr th:only-of-type {\n",
       "        vertical-align: middle;\n",
       "    }\n",
       "\n",
       "    .dataframe tbody tr th {\n",
       "        vertical-align: top;\n",
       "    }\n",
       "\n",
       "    .dataframe thead th {\n",
       "        text-align: right;\n",
       "    }\n",
       "</style>\n",
       "<table border=\"1\" class=\"dataframe\">\n",
       "  <thead>\n",
       "    <tr style=\"text-align: right;\">\n",
       "      <th></th>\n",
       "      <th>CustomerID</th>\n",
       "      <th>Age</th>\n",
       "      <th>Gender</th>\n",
       "      <th>Tenure</th>\n",
       "      <th>Usage Frequency</th>\n",
       "      <th>Support Calls</th>\n",
       "      <th>Payment Delay</th>\n",
       "      <th>Subscription Type</th>\n",
       "      <th>Contract Length</th>\n",
       "      <th>Total Spend</th>\n",
       "      <th>Last Interaction</th>\n",
       "      <th>Churn</th>\n",
       "    </tr>\n",
       "  </thead>\n",
       "  <tbody>\n",
       "    <tr>\n",
       "      <th>0</th>\n",
       "      <td>1</td>\n",
       "      <td>22</td>\n",
       "      <td>Female</td>\n",
       "      <td>25</td>\n",
       "      <td>14</td>\n",
       "      <td>4</td>\n",
       "      <td>27</td>\n",
       "      <td>Basic</td>\n",
       "      <td>Monthly</td>\n",
       "      <td>598</td>\n",
       "      <td>9</td>\n",
       "      <td>1</td>\n",
       "    </tr>\n",
       "    <tr>\n",
       "      <th>1</th>\n",
       "      <td>2</td>\n",
       "      <td>41</td>\n",
       "      <td>Female</td>\n",
       "      <td>28</td>\n",
       "      <td>28</td>\n",
       "      <td>7</td>\n",
       "      <td>13</td>\n",
       "      <td>Standard</td>\n",
       "      <td>Monthly</td>\n",
       "      <td>584</td>\n",
       "      <td>20</td>\n",
       "      <td>0</td>\n",
       "    </tr>\n",
       "    <tr>\n",
       "      <th>2</th>\n",
       "      <td>3</td>\n",
       "      <td>47</td>\n",
       "      <td>Male</td>\n",
       "      <td>27</td>\n",
       "      <td>10</td>\n",
       "      <td>2</td>\n",
       "      <td>29</td>\n",
       "      <td>Premium</td>\n",
       "      <td>Annual</td>\n",
       "      <td>757</td>\n",
       "      <td>21</td>\n",
       "      <td>0</td>\n",
       "    </tr>\n",
       "    <tr>\n",
       "      <th>3</th>\n",
       "      <td>4</td>\n",
       "      <td>35</td>\n",
       "      <td>Male</td>\n",
       "      <td>9</td>\n",
       "      <td>12</td>\n",
       "      <td>5</td>\n",
       "      <td>17</td>\n",
       "      <td>Premium</td>\n",
       "      <td>Quarterly</td>\n",
       "      <td>232</td>\n",
       "      <td>18</td>\n",
       "      <td>0</td>\n",
       "    </tr>\n",
       "    <tr>\n",
       "      <th>4</th>\n",
       "      <td>5</td>\n",
       "      <td>53</td>\n",
       "      <td>Female</td>\n",
       "      <td>58</td>\n",
       "      <td>24</td>\n",
       "      <td>9</td>\n",
       "      <td>2</td>\n",
       "      <td>Standard</td>\n",
       "      <td>Annual</td>\n",
       "      <td>533</td>\n",
       "      <td>18</td>\n",
       "      <td>0</td>\n",
       "    </tr>\n",
       "  </tbody>\n",
       "</table>\n",
       "</div>"
      ],
      "text/plain": [
       "   CustomerID  Age  Gender  Tenure  Usage Frequency  Support Calls  \\\n",
       "0           1   22  Female      25               14              4   \n",
       "1           2   41  Female      28               28              7   \n",
       "2           3   47    Male      27               10              2   \n",
       "3           4   35    Male       9               12              5   \n",
       "4           5   53  Female      58               24              9   \n",
       "\n",
       "   Payment Delay Subscription Type Contract Length  Total Spend  \\\n",
       "0             27             Basic         Monthly          598   \n",
       "1             13          Standard         Monthly          584   \n",
       "2             29           Premium          Annual          757   \n",
       "3             17           Premium       Quarterly          232   \n",
       "4              2          Standard          Annual          533   \n",
       "\n",
       "   Last Interaction  Churn  \n",
       "0                 9      1  \n",
       "1                20      0  \n",
       "2                21      0  \n",
       "3                18      0  \n",
       "4                18      0  "
      ]
     },
     "execution_count": 50,
     "metadata": {},
     "output_type": "execute_result"
    }
   ],
   "source": [
    "Customer.head()"
   ]
  },
  {
   "cell_type": "code",
   "execution_count": null,
   "id": "580445b1-9d79-4214-a7a5-cc8b17290b75",
   "metadata": {},
   "outputs": [],
   "source": []
  },
  {
   "cell_type": "code",
   "execution_count": 52,
   "id": "b0c94256-a538-4d34-be56-216efa477fe8",
   "metadata": {},
   "outputs": [],
   "source": [
    "Age_distribution = Customer[\"Age\"].value_counts()"
   ]
  },
  {
   "cell_type": "code",
   "execution_count": 54,
   "id": "d293bb27-ed3e-4751-b471-52a0b7a951fd",
   "metadata": {},
   "outputs": [
    {
     "data": {
      "text/plain": [
       "Age\n",
       "55    1486\n",
       "53    1482\n",
       "52    1475\n",
       "65    1474\n",
       "63    1473\n",
       "58    1449\n",
       "54    1422\n",
       "61    1414\n",
       "36    1405\n",
       "60    1402\n",
       "57    1401\n",
       "62    1397\n",
       "64    1395\n",
       "56    1392\n",
       "20    1388\n",
       "47    1386\n",
       "37    1367\n",
       "51    1366\n",
       "43    1353\n",
       "39    1349\n",
       "25    1348\n",
       "34    1342\n",
       "31    1340\n",
       "29    1330\n",
       "59    1330\n",
       "30    1324\n",
       "27    1315\n",
       "44    1314\n",
       "49    1310\n",
       "42    1295\n",
       "41    1294\n",
       "35    1291\n",
       "38    1289\n",
       "23    1285\n",
       "32    1284\n",
       "26    1281\n",
       "45    1281\n",
       "19    1279\n",
       "46    1279\n",
       "28    1278\n",
       "18    1274\n",
       "22    1266\n",
       "50    1260\n",
       "33    1257\n",
       "48    1253\n",
       "24    1252\n",
       "21    1251\n",
       "40    1196\n",
       "Name: count, dtype: int64"
      ]
     },
     "execution_count": 54,
     "metadata": {},
     "output_type": "execute_result"
    }
   ],
   "source": [
    "Age_distribution"
   ]
  },
  {
   "cell_type": "code",
   "execution_count": null,
   "id": "e24206b6-702b-4e16-9e56-f8217b978bce",
   "metadata": {},
   "outputs": [],
   "source": []
  },
  {
   "cell_type": "code",
   "execution_count": 84,
   "id": "dd96ecb3-042b-4c88-98bf-d3c1ea4dfc7d",
   "metadata": {},
   "outputs": [
    {
     "data": {
      "text/plain": [
       "<Axes: title={'center': 'Age Distribution of Customers'}, xlabel='count', ylabel='Count'>"
      ]
     },
     "execution_count": 84,
     "metadata": {},
     "output_type": "execute_result"
    },
    {
     "data": {
      "image/png": "[encoded data removed]",
      "text/plain": [
       "<Figure size 640x480 with 1 Axes>"
      ]
     },
     "metadata": {},
     "output_type": "display_data"
    }
   ],
   "source": [
    "plt.title(\"Age Distribution of Customers\")\n",
    "sns.histplot(data=Age_distribution, bins=6,color=\"green\")"
   ]
  },
  {
   "cell_type": "code",
   "execution_count": null,
   "id": "adaccd1d-464f-4d1d-8dbd-4e552b57641c",
   "metadata": {},
   "outputs": [],
   "source": []
  },
  {
   "cell_type": "code",
   "execution_count": null,
   "id": "baf737d7-a034-413c-bf44-738fb34bbb50",
   "metadata": {},
   "outputs": [],
   "source": []
  },
  {
   "cell_type": "markdown",
   "id": "cd3a8979-6689-471f-819f-e5875ab9ca44",
   "metadata": {},
   "source": [
    "## 3) What is the average tenure of customers?"
   ]
  },
  {
   "cell_type": "code",
   "execution_count": null,
   "id": "8f9c2a2c-98a0-4466-ae62-a63f3262c915",
   "metadata": {},
   "outputs": [],
   "source": []
  },
  {
   "cell_type": "code",
   "execution_count": 89,
   "id": "c01c5014-5c6d-43a5-a651-16e13d0a25c5",
   "metadata": {},
   "outputs": [
    {
     "data": {
      "text/html": [
       "<div>\n",
       "<style scoped>\n",
       "    .dataframe tbody tr th:only-of-type {\n",
       "        vertical-align: middle;\n",
       "    }\n",
       "\n",
       "    .dataframe tbody tr th {\n",
       "        vertical-align: top;\n",
       "    }\n",
       "\n",
       "    .dataframe thead th {\n",
       "        text-align: right;\n",
       "    }\n",
       "</style>\n",
       "<table border=\"1\" class=\"dataframe\">\n",
       "  <thead>\n",
       "    <tr style=\"text-align: right;\">\n",
       "      <th></th>\n",
       "      <th>CustomerID</th>\n",
       "      <th>Age</th>\n",
       "      <th>Gender</th>\n",
       "      <th>Tenure</th>\n",
       "      <th>Usage Frequency</th>\n",
       "      <th>Support Calls</th>\n",
       "      <th>Payment Delay</th>\n",
       "      <th>Subscription Type</th>\n",
       "      <th>Contract Length</th>\n",
       "      <th>Total Spend</th>\n",
       "      <th>Last Interaction</th>\n",
       "      <th>Churn</th>\n",
       "    </tr>\n",
       "  </thead>\n",
       "  <tbody>\n",
       "    <tr>\n",
       "      <th>0</th>\n",
       "      <td>1</td>\n",
       "      <td>22</td>\n",
       "      <td>Female</td>\n",
       "      <td>25</td>\n",
       "      <td>14</td>\n",
       "      <td>4</td>\n",
       "      <td>27</td>\n",
       "      <td>Basic</td>\n",
       "      <td>Monthly</td>\n",
       "      <td>598</td>\n",
       "      <td>9</td>\n",
       "      <td>1</td>\n",
       "    </tr>\n",
       "    <tr>\n",
       "      <th>1</th>\n",
       "      <td>2</td>\n",
       "      <td>41</td>\n",
       "      <td>Female</td>\n",
       "      <td>28</td>\n",
       "      <td>28</td>\n",
       "      <td>7</td>\n",
       "      <td>13</td>\n",
       "      <td>Standard</td>\n",
       "      <td>Monthly</td>\n",
       "      <td>584</td>\n",
       "      <td>20</td>\n",
       "      <td>0</td>\n",
       "    </tr>\n",
       "    <tr>\n",
       "      <th>2</th>\n",
       "      <td>3</td>\n",
       "      <td>47</td>\n",
       "      <td>Male</td>\n",
       "      <td>27</td>\n",
       "      <td>10</td>\n",
       "      <td>2</td>\n",
       "      <td>29</td>\n",
       "      <td>Premium</td>\n",
       "      <td>Annual</td>\n",
       "      <td>757</td>\n",
       "      <td>21</td>\n",
       "      <td>0</td>\n",
       "    </tr>\n",
       "    <tr>\n",
       "      <th>3</th>\n",
       "      <td>4</td>\n",
       "      <td>35</td>\n",
       "      <td>Male</td>\n",
       "      <td>9</td>\n",
       "      <td>12</td>\n",
       "      <td>5</td>\n",
       "      <td>17</td>\n",
       "      <td>Premium</td>\n",
       "      <td>Quarterly</td>\n",
       "      <td>232</td>\n",
       "      <td>18</td>\n",
       "      <td>0</td>\n",
       "    </tr>\n",
       "    <tr>\n",
       "      <th>4</th>\n",
       "      <td>5</td>\n",
       "      <td>53</td>\n",
       "      <td>Female</td>\n",
       "      <td>58</td>\n",
       "      <td>24</td>\n",
       "      <td>9</td>\n",
       "      <td>2</td>\n",
       "      <td>Standard</td>\n",
       "      <td>Annual</td>\n",
       "      <td>533</td>\n",
       "      <td>18</td>\n",
       "      <td>0</td>\n",
       "    </tr>\n",
       "  </tbody>\n",
       "</table>\n",
       "</div>"
      ],
      "text/plain": [
       "   CustomerID  Age  Gender  Tenure  Usage Frequency  Support Calls  \\\n",
       "0           1   22  Female      25               14              4   \n",
       "1           2   41  Female      28               28              7   \n",
       "2           3   47    Male      27               10              2   \n",
       "3           4   35    Male       9               12              5   \n",
       "4           5   53  Female      58               24              9   \n",
       "\n",
       "   Payment Delay Subscription Type Contract Length  Total Spend  \\\n",
       "0             27             Basic         Monthly          598   \n",
       "1             13          Standard         Monthly          584   \n",
       "2             29           Premium          Annual          757   \n",
       "3             17           Premium       Quarterly          232   \n",
       "4              2          Standard          Annual          533   \n",
       "\n",
       "   Last Interaction  Churn  \n",
       "0                 9      1  \n",
       "1                20      0  \n",
       "2                21      0  \n",
       "3                18      0  \n",
       "4                18      0  "
      ]
     },
     "execution_count": 89,
     "metadata": {},
     "output_type": "execute_result"
    }
   ],
   "source": [
    "Customer.head()"
   ]
  },
  {
   "cell_type": "code",
   "execution_count": null,
   "id": "5798d598-372d-4a6a-893a-8ca102812553",
   "metadata": {},
   "outputs": [],
   "source": []
  },
  {
   "cell_type": "code",
   "execution_count": 99,
   "id": "4a87c733-60e1-467a-8615-d94c194ab97a",
   "metadata": {},
   "outputs": [],
   "source": [
    "Average_tenure = Customer[\"Tenure\"].mean()"
   ]
  },
  {
   "cell_type": "code",
   "execution_count": 101,
   "id": "a2a44f81-a8de-4494-b140-2a374409c8a9",
   "metadata": {},
   "outputs": [
    {
     "data": {
      "text/plain": [
       "31.994827104110357"
      ]
     },
     "execution_count": 101,
     "metadata": {},
     "output_type": "execute_result"
    }
   ],
   "source": [
    "Average_tenure"
   ]
  },
  {
   "cell_type": "code",
   "execution_count": 109,
   "id": "5ba263c4-684a-414e-a2ba-817b7f82b81c",
   "metadata": {},
   "outputs": [
    {
     "name": "stdout",
     "output_type": "stream",
     "text": [
      "Average_tenure of Customers : 31.994827104110357\n"
     ]
    }
   ],
   "source": [
    "print(\"Average_tenure of Customers :\",Average_tenure)\n"
   ]
  },
  {
   "cell_type": "code",
   "execution_count": null,
   "id": "c56c8b3c-fbb4-48fc-8240-eb815e2c14a4",
   "metadata": {},
   "outputs": [],
   "source": []
  },
  {
   "cell_type": "markdown",
   "id": "8de19b0b-3d6d-4100-a906-a1d7d3adf80e",
   "metadata": {},
   "source": [
    "## 4) How does tenure vary by subscription type?"
   ]
  },
  {
   "cell_type": "code",
   "execution_count": 114,
   "id": "508935dd-b5d4-476d-95b6-8d09d529e7d6",
   "metadata": {},
   "outputs": [
    {
     "data": {
      "text/html": [
       "<div>\n",
       "<style scoped>\n",
       "    .dataframe tbody tr th:only-of-type {\n",
       "        vertical-align: middle;\n",
       "    }\n",
       "\n",
       "    .dataframe tbody tr th {\n",
       "        vertical-align: top;\n",
       "    }\n",
       "\n",
       "    .dataframe thead th {\n",
       "        text-align: right;\n",
       "    }\n",
       "</style>\n",
       "<table border=\"1\" class=\"dataframe\">\n",
       "  <thead>\n",
       "    <tr style=\"text-align: right;\">\n",
       "      <th></th>\n",
       "      <th>CustomerID</th>\n",
       "      <th>Age</th>\n",
       "      <th>Gender</th>\n",
       "      <th>Tenure</th>\n",
       "      <th>Usage Frequency</th>\n",
       "      <th>Support Calls</th>\n",
       "      <th>Payment Delay</th>\n",
       "      <th>Subscription Type</th>\n",
       "      <th>Contract Length</th>\n",
       "      <th>Total Spend</th>\n",
       "      <th>Last Interaction</th>\n",
       "      <th>Churn</th>\n",
       "    </tr>\n",
       "  </thead>\n",
       "  <tbody>\n",
       "    <tr>\n",
       "      <th>0</th>\n",
       "      <td>1</td>\n",
       "      <td>22</td>\n",
       "      <td>Female</td>\n",
       "      <td>25</td>\n",
       "      <td>14</td>\n",
       "      <td>4</td>\n",
       "      <td>27</td>\n",
       "      <td>Basic</td>\n",
       "      <td>Monthly</td>\n",
       "      <td>598</td>\n",
       "      <td>9</td>\n",
       "      <td>1</td>\n",
       "    </tr>\n",
       "    <tr>\n",
       "      <th>1</th>\n",
       "      <td>2</td>\n",
       "      <td>41</td>\n",
       "      <td>Female</td>\n",
       "      <td>28</td>\n",
       "      <td>28</td>\n",
       "      <td>7</td>\n",
       "      <td>13</td>\n",
       "      <td>Standard</td>\n",
       "      <td>Monthly</td>\n",
       "      <td>584</td>\n",
       "      <td>20</td>\n",
       "      <td>0</td>\n",
       "    </tr>\n",
       "    <tr>\n",
       "      <th>2</th>\n",
       "      <td>3</td>\n",
       "      <td>47</td>\n",
       "      <td>Male</td>\n",
       "      <td>27</td>\n",
       "      <td>10</td>\n",
       "      <td>2</td>\n",
       "      <td>29</td>\n",
       "      <td>Premium</td>\n",
       "      <td>Annual</td>\n",
       "      <td>757</td>\n",
       "      <td>21</td>\n",
       "      <td>0</td>\n",
       "    </tr>\n",
       "    <tr>\n",
       "      <th>3</th>\n",
       "      <td>4</td>\n",
       "      <td>35</td>\n",
       "      <td>Male</td>\n",
       "      <td>9</td>\n",
       "      <td>12</td>\n",
       "      <td>5</td>\n",
       "      <td>17</td>\n",
       "      <td>Premium</td>\n",
       "      <td>Quarterly</td>\n",
       "      <td>232</td>\n",
       "      <td>18</td>\n",
       "      <td>0</td>\n",
       "    </tr>\n",
       "    <tr>\n",
       "      <th>4</th>\n",
       "      <td>5</td>\n",
       "      <td>53</td>\n",
       "      <td>Female</td>\n",
       "      <td>58</td>\n",
       "      <td>24</td>\n",
       "      <td>9</td>\n",
       "      <td>2</td>\n",
       "      <td>Standard</td>\n",
       "      <td>Annual</td>\n",
       "      <td>533</td>\n",
       "      <td>18</td>\n",
       "      <td>0</td>\n",
       "    </tr>\n",
       "  </tbody>\n",
       "</table>\n",
       "</div>"
      ],
      "text/plain": [
       "   CustomerID  Age  Gender  Tenure  Usage Frequency  Support Calls  \\\n",
       "0           1   22  Female      25               14              4   \n",
       "1           2   41  Female      28               28              7   \n",
       "2           3   47    Male      27               10              2   \n",
       "3           4   35    Male       9               12              5   \n",
       "4           5   53  Female      58               24              9   \n",
       "\n",
       "   Payment Delay Subscription Type Contract Length  Total Spend  \\\n",
       "0             27             Basic         Monthly          598   \n",
       "1             13          Standard         Monthly          584   \n",
       "2             29           Premium          Annual          757   \n",
       "3             17           Premium       Quarterly          232   \n",
       "4              2          Standard          Annual          533   \n",
       "\n",
       "   Last Interaction  Churn  \n",
       "0                 9      1  \n",
       "1                20      0  \n",
       "2                21      0  \n",
       "3                18      0  \n",
       "4                18      0  "
      ]
     },
     "execution_count": 114,
     "metadata": {},
     "output_type": "execute_result"
    }
   ],
   "source": [
    "Customer.head()"
   ]
  },
  {
   "cell_type": "code",
   "execution_count": null,
   "id": "356cb7a1-d146-407c-aa6b-435d6a26f843",
   "metadata": {},
   "outputs": [],
   "source": []
  },
  {
   "cell_type": "code",
   "execution_count": 122,
   "id": "92d180b8-6929-4b82-ba84-4a0890190925",
   "metadata": {},
   "outputs": [],
   "source": [
    "Tenure_subscription = Customer.groupby(\"Subscription Type\")[\"Tenure\"].mean()"
   ]
  },
  {
   "cell_type": "code",
   "execution_count": 124,
   "id": "912fa37e-2809-4f40-9348-08f01ed9c16f",
   "metadata": {},
   "outputs": [
    {
     "data": {
      "text/plain": [
       "Subscription Type\n",
       "Basic       31.941588\n",
       "Premium     31.925074\n",
       "Standard    32.117431\n",
       "Name: Tenure, dtype: float64"
      ]
     },
     "execution_count": 124,
     "metadata": {},
     "output_type": "execute_result"
    }
   ],
   "source": [
    "Tenure_subscription"
   ]
  },
  {
   "cell_type": "code",
   "execution_count": null,
   "id": "e5d675b9-4bdb-4db7-866e-f3bc38902b94",
   "metadata": {},
   "outputs": [],
   "source": []
  },
  {
   "cell_type": "code",
   "execution_count": 144,
   "id": "bfea8cf1-2fa4-45e5-a9ca-e443256332a7",
   "metadata": {},
   "outputs": [
    {
     "data": {
      "text/plain": [
       "<Axes: title={'center': 'Gender_Distribution of Customers'}, xlabel='Subscription Type', ylabel='Tenure'>"
      ]
     },
     "execution_count": 144,
     "metadata": {},
     "output_type": "execute_result"
    },
    {
     "data": {
      "image/png": "[encoded data removed]",
      "text/plain": [
       "<Figure size 800x600 with 1 Axes>"
      ]
     },
     "metadata": {},
     "output_type": "display_data"
    }
   ],
   "source": [
    "plt.figure(figsize=(8, 6))\n",
    "plt.title(\"Gender_Distribution of Customers\")\n",
    "sns.barplot(data=Tenure_subscription,color=\"yellow\")"
   ]
  },
  {
   "cell_type": "code",
   "execution_count": null,
   "id": "591610ff-d9c0-4e2d-ad1d-acc91283212e",
   "metadata": {},
   "outputs": [],
   "source": []
  },
  {
   "cell_type": "code",
   "execution_count": null,
   "id": "e3334fdb-d853-4820-8dff-8919744d8a38",
   "metadata": {},
   "outputs": [],
   "source": []
  },
  {
   "cell_type": "code",
   "execution_count": null,
   "id": "e3a5896e-a7c5-4c60-a75d-2f6a385e83a7",
   "metadata": {},
   "outputs": [],
   "source": []
  },
  {
   "cell_type": "markdown",
   "id": "73bf0371-534e-4e5c-9bdc-72cb66fd8a59",
   "metadata": {},
   "source": [
    "# ----> Subscription and Payment Section:\n",
    "\n",
    "1) What is the distribution of customers across different subscription types?\n",
    "2) Which subscription type contributes the most to total spend?\n",
    "3) How many customers have delayed payments? \n",
    "4) Is there a trend in payment delays based on contract length?\n"
   ]
  },
  {
   "cell_type": "markdown",
   "id": "aba53701-f124-4b15-9e71-6c282d01731e",
   "metadata": {},
   "source": []
  },
  {
   "cell_type": "markdown",
   "id": "a186289d-205c-47e5-a1fc-9a892bf7935b",
   "metadata": {},
   "source": [
    "## 1) What is the distribution of customers across different subscription types?"
   ]
  },
  {
   "cell_type": "code",
   "execution_count": 152,
   "id": "2796522d-f607-4e0e-bcb0-e26db58f1e8b",
   "metadata": {},
   "outputs": [
    {
     "data": {
      "text/html": [
       "<div>\n",
       "<style scoped>\n",
       "    .dataframe tbody tr th:only-of-type {\n",
       "        vertical-align: middle;\n",
       "    }\n",
       "\n",
       "    .dataframe tbody tr th {\n",
       "        vertical-align: top;\n",
       "    }\n",
       "\n",
       "    .dataframe thead th {\n",
       "        text-align: right;\n",
       "    }\n",
       "</style>\n",
       "<table border=\"1\" class=\"dataframe\">\n",
       "  <thead>\n",
       "    <tr style=\"text-align: right;\">\n",
       "      <th></th>\n",
       "      <th>CustomerID</th>\n",
       "      <th>Age</th>\n",
       "      <th>Gender</th>\n",
       "      <th>Tenure</th>\n",
       "      <th>Usage Frequency</th>\n",
       "      <th>Support Calls</th>\n",
       "      <th>Payment Delay</th>\n",
       "      <th>Subscription Type</th>\n",
       "      <th>Contract Length</th>\n",
       "      <th>Total Spend</th>\n",
       "      <th>Last Interaction</th>\n",
       "      <th>Churn</th>\n",
       "    </tr>\n",
       "  </thead>\n",
       "  <tbody>\n",
       "    <tr>\n",
       "      <th>0</th>\n",
       "      <td>1</td>\n",
       "      <td>22</td>\n",
       "      <td>Female</td>\n",
       "      <td>25</td>\n",
       "      <td>14</td>\n",
       "      <td>4</td>\n",
       "      <td>27</td>\n",
       "      <td>Basic</td>\n",
       "      <td>Monthly</td>\n",
       "      <td>598</td>\n",
       "      <td>9</td>\n",
       "      <td>1</td>\n",
       "    </tr>\n",
       "    <tr>\n",
       "      <th>1</th>\n",
       "      <td>2</td>\n",
       "      <td>41</td>\n",
       "      <td>Female</td>\n",
       "      <td>28</td>\n",
       "      <td>28</td>\n",
       "      <td>7</td>\n",
       "      <td>13</td>\n",
       "      <td>Standard</td>\n",
       "      <td>Monthly</td>\n",
       "      <td>584</td>\n",
       "      <td>20</td>\n",
       "      <td>0</td>\n",
       "    </tr>\n",
       "    <tr>\n",
       "      <th>2</th>\n",
       "      <td>3</td>\n",
       "      <td>47</td>\n",
       "      <td>Male</td>\n",
       "      <td>27</td>\n",
       "      <td>10</td>\n",
       "      <td>2</td>\n",
       "      <td>29</td>\n",
       "      <td>Premium</td>\n",
       "      <td>Annual</td>\n",
       "      <td>757</td>\n",
       "      <td>21</td>\n",
       "      <td>0</td>\n",
       "    </tr>\n",
       "    <tr>\n",
       "      <th>3</th>\n",
       "      <td>4</td>\n",
       "      <td>35</td>\n",
       "      <td>Male</td>\n",
       "      <td>9</td>\n",
       "      <td>12</td>\n",
       "      <td>5</td>\n",
       "      <td>17</td>\n",
       "      <td>Premium</td>\n",
       "      <td>Quarterly</td>\n",
       "      <td>232</td>\n",
       "      <td>18</td>\n",
       "      <td>0</td>\n",
       "    </tr>\n",
       "    <tr>\n",
       "      <th>4</th>\n",
       "      <td>5</td>\n",
       "      <td>53</td>\n",
       "      <td>Female</td>\n",
       "      <td>58</td>\n",
       "      <td>24</td>\n",
       "      <td>9</td>\n",
       "      <td>2</td>\n",
       "      <td>Standard</td>\n",
       "      <td>Annual</td>\n",
       "      <td>533</td>\n",
       "      <td>18</td>\n",
       "      <td>0</td>\n",
       "    </tr>\n",
       "  </tbody>\n",
       "</table>\n",
       "</div>"
      ],
      "text/plain": [
       "   CustomerID  Age  Gender  Tenure  Usage Frequency  Support Calls  \\\n",
       "0           1   22  Female      25               14              4   \n",
       "1           2   41  Female      28               28              7   \n",
       "2           3   47    Male      27               10              2   \n",
       "3           4   35    Male       9               12              5   \n",
       "4           5   53  Female      58               24              9   \n",
       "\n",
       "   Payment Delay Subscription Type Contract Length  Total Spend  \\\n",
       "0             27             Basic         Monthly          598   \n",
       "1             13          Standard         Monthly          584   \n",
       "2             29           Premium          Annual          757   \n",
       "3             17           Premium       Quarterly          232   \n",
       "4              2          Standard          Annual          533   \n",
       "\n",
       "   Last Interaction  Churn  \n",
       "0                 9      1  \n",
       "1                20      0  \n",
       "2                21      0  \n",
       "3                18      0  \n",
       "4                18      0  "
      ]
     },
     "execution_count": 152,
     "metadata": {},
     "output_type": "execute_result"
    }
   ],
   "source": [
    "Customer.head()"
   ]
  },
  {
   "cell_type": "code",
   "execution_count": null,
   "id": "dfdae9b5-7299-46a9-8a10-6e2ca9702b81",
   "metadata": {},
   "outputs": [],
   "source": []
  },
  {
   "cell_type": "code",
   "execution_count": 158,
   "id": "eb65ceb9-acec-49f7-963e-1f7b00c13dcf",
   "metadata": {},
   "outputs": [],
   "source": [
    "subscription_distribution = Customer[\"Subscription Type\"].value_counts()"
   ]
  },
  {
   "cell_type": "code",
   "execution_count": 160,
   "id": "2ade0e48-296c-4925-a8e7-dc2efa69627e",
   "metadata": {},
   "outputs": [
    {
     "data": {
      "text/plain": [
       "Subscription Type\n",
       "Standard    21502\n",
       "Basic       21451\n",
       "Premium     21421\n",
       "Name: count, dtype: int64"
      ]
     },
     "execution_count": 160,
     "metadata": {},
     "output_type": "execute_result"
    }
   ],
   "source": [
    "subscription_distribution"
   ]
  },
  {
   "cell_type": "code",
   "execution_count": null,
   "id": "f4517c2e-c535-45c6-a6b2-9f557eab3968",
   "metadata": {},
   "outputs": [],
   "source": []
  },
  {
   "cell_type": "code",
   "execution_count": 168,
   "id": "9daa81d9-b1ce-4fe9-bcf8-8e0bc4728afd",
   "metadata": {},
   "outputs": [
    {
     "data": {
      "text/plain": [
       "<Axes: title={'center': 'Gender_Distribution of Customers'}, xlabel='Subscription Type', ylabel='count'>"
      ]
     },
     "execution_count": 168,
     "metadata": {},
     "output_type": "execute_result"
    },
    {
     "data": {
      "image/png": "[encoded data removed]",
      "text/plain": [
       "<Figure size 640x480 with 1 Axes>"
      ]
     },
     "metadata": {},
     "output_type": "display_data"
    }
   ],
   "source": [
    "plt.title(\"Gender_Distribution of Customers\")\n",
    "sns.barplot(data=subscription_distribution)"
   ]
  },
  {
   "cell_type": "code",
   "execution_count": null,
   "id": "fb4fc928-8d24-4ed6-ae8e-69499089c1c3",
   "metadata": {},
   "outputs": [],
   "source": []
  },
  {
   "cell_type": "markdown",
   "id": "106f1d63-8da0-4764-b61a-5d79c3d5fde2",
   "metadata": {},
   "source": [
    "## 2) Which subscription type contributes the most to total spend?"
   ]
  },
  {
   "cell_type": "code",
   "execution_count": 171,
   "id": "96b2dab0-7490-4756-9bb3-3d679e7da027",
   "metadata": {},
   "outputs": [
    {
     "data": {
      "text/html": [
       "<div>\n",
       "<style scoped>\n",
       "    .dataframe tbody tr th:only-of-type {\n",
       "        vertical-align: middle;\n",
       "    }\n",
       "\n",
       "    .dataframe tbody tr th {\n",
       "        vertical-align: top;\n",
       "    }\n",
       "\n",
       "    .dataframe thead th {\n",
       "        text-align: right;\n",
       "    }\n",
       "</style>\n",
       "<table border=\"1\" class=\"dataframe\">\n",
       "  <thead>\n",
       "    <tr style=\"text-align: right;\">\n",
       "      <th></th>\n",
       "      <th>CustomerID</th>\n",
       "      <th>Age</th>\n",
       "      <th>Gender</th>\n",
       "      <th>Tenure</th>\n",
       "      <th>Usage Frequency</th>\n",
       "      <th>Support Calls</th>\n",
       "      <th>Payment Delay</th>\n",
       "      <th>Subscription Type</th>\n",
       "      <th>Contract Length</th>\n",
       "      <th>Total Spend</th>\n",
       "      <th>Last Interaction</th>\n",
       "      <th>Churn</th>\n",
       "    </tr>\n",
       "  </thead>\n",
       "  <tbody>\n",
       "    <tr>\n",
       "      <th>0</th>\n",
       "      <td>1</td>\n",
       "      <td>22</td>\n",
       "      <td>Female</td>\n",
       "      <td>25</td>\n",
       "      <td>14</td>\n",
       "      <td>4</td>\n",
       "      <td>27</td>\n",
       "      <td>Basic</td>\n",
       "      <td>Monthly</td>\n",
       "      <td>598</td>\n",
       "      <td>9</td>\n",
       "      <td>1</td>\n",
       "    </tr>\n",
       "    <tr>\n",
       "      <th>1</th>\n",
       "      <td>2</td>\n",
       "      <td>41</td>\n",
       "      <td>Female</td>\n",
       "      <td>28</td>\n",
       "      <td>28</td>\n",
       "      <td>7</td>\n",
       "      <td>13</td>\n",
       "      <td>Standard</td>\n",
       "      <td>Monthly</td>\n",
       "      <td>584</td>\n",
       "      <td>20</td>\n",
       "      <td>0</td>\n",
       "    </tr>\n",
       "    <tr>\n",
       "      <th>2</th>\n",
       "      <td>3</td>\n",
       "      <td>47</td>\n",
       "      <td>Male</td>\n",
       "      <td>27</td>\n",
       "      <td>10</td>\n",
       "      <td>2</td>\n",
       "      <td>29</td>\n",
       "      <td>Premium</td>\n",
       "      <td>Annual</td>\n",
       "      <td>757</td>\n",
       "      <td>21</td>\n",
       "      <td>0</td>\n",
       "    </tr>\n",
       "    <tr>\n",
       "      <th>3</th>\n",
       "      <td>4</td>\n",
       "      <td>35</td>\n",
       "      <td>Male</td>\n",
       "      <td>9</td>\n",
       "      <td>12</td>\n",
       "      <td>5</td>\n",
       "      <td>17</td>\n",
       "      <td>Premium</td>\n",
       "      <td>Quarterly</td>\n",
       "      <td>232</td>\n",
       "      <td>18</td>\n",
       "      <td>0</td>\n",
       "    </tr>\n",
       "    <tr>\n",
       "      <th>4</th>\n",
       "      <td>5</td>\n",
       "      <td>53</td>\n",
       "      <td>Female</td>\n",
       "      <td>58</td>\n",
       "      <td>24</td>\n",
       "      <td>9</td>\n",
       "      <td>2</td>\n",
       "      <td>Standard</td>\n",
       "      <td>Annual</td>\n",
       "      <td>533</td>\n",
       "      <td>18</td>\n",
       "      <td>0</td>\n",
       "    </tr>\n",
       "  </tbody>\n",
       "</table>\n",
       "</div>"
      ],
      "text/plain": [
       "   CustomerID  Age  Gender  Tenure  Usage Frequency  Support Calls  \\\n",
       "0           1   22  Female      25               14              4   \n",
       "1           2   41  Female      28               28              7   \n",
       "2           3   47    Male      27               10              2   \n",
       "3           4   35    Male       9               12              5   \n",
       "4           5   53  Female      58               24              9   \n",
       "\n",
       "   Payment Delay Subscription Type Contract Length  Total Spend  \\\n",
       "0             27             Basic         Monthly          598   \n",
       "1             13          Standard         Monthly          584   \n",
       "2             29           Premium          Annual          757   \n",
       "3             17           Premium       Quarterly          232   \n",
       "4              2          Standard          Annual          533   \n",
       "\n",
       "   Last Interaction  Churn  \n",
       "0                 9      1  \n",
       "1                20      0  \n",
       "2                21      0  \n",
       "3                18      0  \n",
       "4                18      0  "
      ]
     },
     "execution_count": 171,
     "metadata": {},
     "output_type": "execute_result"
    }
   ],
   "source": [
    "Customer.head()"
   ]
  },
  {
   "cell_type": "code",
   "execution_count": null,
   "id": "c7ff570a-d28b-4c9a-bd1f-17236d965171",
   "metadata": {},
   "outputs": [],
   "source": []
  },
  {
   "cell_type": "code",
   "execution_count": 173,
   "id": "797b0610-7dd0-445d-aa75-3df04e432a81",
   "metadata": {},
   "outputs": [],
   "source": [
    "Total_Spend = Customer.groupby(\"Subscription Type\")[\"Total Spend\"].sum().sort_values(ascending=False)"
   ]
  },
  {
   "cell_type": "code",
   "execution_count": 175,
   "id": "ce848cde-ff97-44e8-8cbd-2a2f1492085d",
   "metadata": {},
   "outputs": [
    {
     "data": {
      "text/plain": [
       "Subscription Type\n",
       "Premium     11644061\n",
       "Basic       11603029\n",
       "Standard    11580749\n",
       "Name: Total Spend, dtype: int64"
      ]
     },
     "execution_count": 175,
     "metadata": {},
     "output_type": "execute_result"
    }
   ],
   "source": [
    "Total_Spend"
   ]
  },
  {
   "cell_type": "code",
   "execution_count": null,
   "id": "f48cfbbf-f2dd-411d-ac82-a5439090821a",
   "metadata": {},
   "outputs": [],
   "source": []
  },
  {
   "cell_type": "code",
   "execution_count": 183,
   "id": "be9f1fb7-0ebc-4926-be1d-401cbe3bd354",
   "metadata": {},
   "outputs": [
    {
     "data": {
      "text/plain": [
       "<Axes: title={'center': 'subscription type contributes the most to total spend'}, xlabel='Subscription Type', ylabel='Total Spend'>"
      ]
     },
     "execution_count": 183,
     "metadata": {},
     "output_type": "execute_result"
    },
    {
     "data": {
      "image/png": "[encoded data removed]",
      "text/plain": [
       "<Figure size 640x480 with 1 Axes>"
      ]
     },
     "metadata": {},
     "output_type": "display_data"
    }
   ],
   "source": [
    "plt.title(\"subscription type contributes the most to total spend\")\n",
    "sns.barplot(data=Total_Spend)"
   ]
  },
  {
   "cell_type": "code",
   "execution_count": null,
   "id": "df7bc3f1-3c7d-4af5-b70e-7ab10eaa76e1",
   "metadata": {},
   "outputs": [],
   "source": []
  },
  {
   "cell_type": "code",
   "execution_count": null,
   "id": "d2217939-81c6-462a-9b34-06417dec42cd",
   "metadata": {},
   "outputs": [],
   "source": []
  },
  {
   "cell_type": "markdown",
   "id": "cd86c5f3-48db-47fd-988f-a8b44b9fa43a",
   "metadata": {},
   "source": [
    "## 3) How many customers have delayed payments?"
   ]
  },
  {
   "cell_type": "code",
   "execution_count": null,
   "id": "19deb4a7-7eac-434c-bac6-c9bb00e4cba0",
   "metadata": {},
   "outputs": [],
   "source": []
  },
  {
   "cell_type": "code",
   "execution_count": 18,
   "id": "f60d71c8-e2a3-4790-a73c-05cf986dc321",
   "metadata": {},
   "outputs": [
    {
     "data": {
      "text/html": [
       "<div>\n",
       "<style scoped>\n",
       "    .dataframe tbody tr th:only-of-type {\n",
       "        vertical-align: middle;\n",
       "    }\n",
       "\n",
       "    .dataframe tbody tr th {\n",
       "        vertical-align: top;\n",
       "    }\n",
       "\n",
       "    .dataframe thead th {\n",
       "        text-align: right;\n",
       "    }\n",
       "</style>\n",
       "<table border=\"1\" class=\"dataframe\">\n",
       "  <thead>\n",
       "    <tr style=\"text-align: right;\">\n",
       "      <th></th>\n",
       "      <th>CustomerID</th>\n",
       "      <th>Age</th>\n",
       "      <th>Gender</th>\n",
       "      <th>Tenure</th>\n",
       "      <th>Usage Frequency</th>\n",
       "      <th>Support Calls</th>\n",
       "      <th>Payment Delay</th>\n",
       "      <th>Subscription Type</th>\n",
       "      <th>Contract Length</th>\n",
       "      <th>Total Spend</th>\n",
       "      <th>Last Interaction</th>\n",
       "      <th>Churn</th>\n",
       "    </tr>\n",
       "  </thead>\n",
       "  <tbody>\n",
       "    <tr>\n",
       "      <th>0</th>\n",
       "      <td>1</td>\n",
       "      <td>22</td>\n",
       "      <td>Female</td>\n",
       "      <td>25</td>\n",
       "      <td>14</td>\n",
       "      <td>4</td>\n",
       "      <td>27</td>\n",
       "      <td>Basic</td>\n",
       "      <td>Monthly</td>\n",
       "      <td>598</td>\n",
       "      <td>9</td>\n",
       "      <td>1</td>\n",
       "    </tr>\n",
       "    <tr>\n",
       "      <th>1</th>\n",
       "      <td>2</td>\n",
       "      <td>41</td>\n",
       "      <td>Female</td>\n",
       "      <td>28</td>\n",
       "      <td>28</td>\n",
       "      <td>7</td>\n",
       "      <td>13</td>\n",
       "      <td>Standard</td>\n",
       "      <td>Monthly</td>\n",
       "      <td>584</td>\n",
       "      <td>20</td>\n",
       "      <td>0</td>\n",
       "    </tr>\n",
       "    <tr>\n",
       "      <th>2</th>\n",
       "      <td>3</td>\n",
       "      <td>47</td>\n",
       "      <td>Male</td>\n",
       "      <td>27</td>\n",
       "      <td>10</td>\n",
       "      <td>2</td>\n",
       "      <td>29</td>\n",
       "      <td>Premium</td>\n",
       "      <td>Annual</td>\n",
       "      <td>757</td>\n",
       "      <td>21</td>\n",
       "      <td>0</td>\n",
       "    </tr>\n",
       "    <tr>\n",
       "      <th>3</th>\n",
       "      <td>4</td>\n",
       "      <td>35</td>\n",
       "      <td>Male</td>\n",
       "      <td>9</td>\n",
       "      <td>12</td>\n",
       "      <td>5</td>\n",
       "      <td>17</td>\n",
       "      <td>Premium</td>\n",
       "      <td>Quarterly</td>\n",
       "      <td>232</td>\n",
       "      <td>18</td>\n",
       "      <td>0</td>\n",
       "    </tr>\n",
       "    <tr>\n",
       "      <th>4</th>\n",
       "      <td>5</td>\n",
       "      <td>53</td>\n",
       "      <td>Female</td>\n",
       "      <td>58</td>\n",
       "      <td>24</td>\n",
       "      <td>9</td>\n",
       "      <td>2</td>\n",
       "      <td>Standard</td>\n",
       "      <td>Annual</td>\n",
       "      <td>533</td>\n",
       "      <td>18</td>\n",
       "      <td>0</td>\n",
       "    </tr>\n",
       "  </tbody>\n",
       "</table>\n",
       "</div>"
      ],
      "text/plain": [
       "   CustomerID  Age  Gender  Tenure  Usage Frequency  Support Calls  \\\n",
       "0           1   22  Female      25               14              4   \n",
       "1           2   41  Female      28               28              7   \n",
       "2           3   47    Male      27               10              2   \n",
       "3           4   35    Male       9               12              5   \n",
       "4           5   53  Female      58               24              9   \n",
       "\n",
       "   Payment Delay Subscription Type Contract Length  Total Spend  \\\n",
       "0             27             Basic         Monthly          598   \n",
       "1             13          Standard         Monthly          584   \n",
       "2             29           Premium          Annual          757   \n",
       "3             17           Premium       Quarterly          232   \n",
       "4              2          Standard          Annual          533   \n",
       "\n",
       "   Last Interaction  Churn  \n",
       "0                 9      1  \n",
       "1                20      0  \n",
       "2                21      0  \n",
       "3                18      0  \n",
       "4                18      0  "
      ]
     },
     "execution_count": 18,
     "metadata": {},
     "output_type": "execute_result"
    }
   ],
   "source": [
    "Customer.head()"
   ]
  },
  {
   "cell_type": "code",
   "execution_count": null,
   "id": "b59892f6-0a31-4531-91ec-5d87b71a1609",
   "metadata": {},
   "outputs": [],
   "source": []
  },
  {
   "cell_type": "code",
   "execution_count": 22,
   "id": "3d37ce9a-eb6f-4962-b2e9-f0cee35ee230",
   "metadata": {},
   "outputs": [],
   "source": [
    "customers_delays = (Customer[\"Payment Delay\"] > 0).sum()"
   ]
  },
  {
   "cell_type": "code",
   "execution_count": 24,
   "id": "7642c334-866d-4b05-adf0-f4f50492ded6",
   "metadata": {},
   "outputs": [
    {
     "data": {
      "text/plain": [
       "62780"
      ]
     },
     "execution_count": 24,
     "metadata": {},
     "output_type": "execute_result"
    }
   ],
   "source": [
    "customers_delays"
   ]
  },
  {
   "cell_type": "code",
   "execution_count": 30,
   "id": "440733b4-8630-480f-bb8f-bdbc437dd1da",
   "metadata": {},
   "outputs": [],
   "source": [
    "delayed_payment_counts = Customer[\"Payment Delay\"].value_counts()"
   ]
  },
  {
   "cell_type": "code",
   "execution_count": 32,
   "id": "3143e36e-a441-4878-bc81-f7108b9442c7",
   "metadata": {},
   "outputs": [
    {
     "data": {
      "text/plain": [
       "Payment Delay\n",
       "22    2821\n",
       "27    2818\n",
       "25    2781\n",
       "26    2781\n",
       "30    2774\n",
       "21    2766\n",
       "29    2748\n",
       "24    2748\n",
       "28    2726\n",
       "23    2716\n",
       "16    2363\n",
       "17    2337\n",
       "18    2284\n",
       "20    2280\n",
       "19    2261\n",
       "10    1646\n",
       "14    1618\n",
       "13    1608\n",
       "0     1594\n",
       "11    1589\n",
       "4     1588\n",
       "12    1587\n",
       "15    1586\n",
       "5     1568\n",
       "8     1559\n",
       "3     1543\n",
       "6     1541\n",
       "7     1539\n",
       "1     1539\n",
       "9     1534\n",
       "2     1531\n",
       "Name: count, dtype: int64"
      ]
     },
     "execution_count": 32,
     "metadata": {},
     "output_type": "execute_result"
    }
   ],
   "source": [
    "delayed_payment_counts"
   ]
  },
  {
   "cell_type": "code",
   "execution_count": 40,
   "id": "11dfecb0-a04a-468c-85b4-53508e4a74ad",
   "metadata": {},
   "outputs": [
    {
     "data": {
      "text/plain": [
       "<Axes: title={'center': 'customers have delayed payments'}, xlabel='Payment Delay', ylabel='count'>"
      ]
     },
     "execution_count": 40,
     "metadata": {},
     "output_type": "execute_result"
    },
    {
     "data": {
      "image/png": "[encoded data removed]",
      "text/plain": [
       "<Figure size 1200x600 with 1 Axes>"
      ]
     },
     "metadata": {},
     "output_type": "display_data"
    }
   ],
   "source": [
    "plt.figure(figsize=(12, 6))\n",
    "plt.title(\"customers have delayed payments\")\n",
    "sns.barplot(data=delayed_payment_counts)"
   ]
  },
  {
   "cell_type": "code",
   "execution_count": null,
   "id": "e1412396-570f-4dcf-9120-8d6bb1108859",
   "metadata": {},
   "outputs": [],
   "source": []
  },
  {
   "cell_type": "markdown",
   "id": "7e48e320-b784-4104-84b5-3da2ba167d9d",
   "metadata": {},
   "source": [
    "## 4) Is there a trend in payment delays based on contract length?"
   ]
  },
  {
   "cell_type": "code",
   "execution_count": 47,
   "id": "585d18dd-fda3-4ffb-bef3-be5f4a86df2c",
   "metadata": {},
   "outputs": [
    {
     "data": {
      "text/html": [
       "<div>\n",
       "<style scoped>\n",
       "    .dataframe tbody tr th:only-of-type {\n",
       "        vertical-align: middle;\n",
       "    }\n",
       "\n",
       "    .dataframe tbody tr th {\n",
       "        vertical-align: top;\n",
       "    }\n",
       "\n",
       "    .dataframe thead th {\n",
       "        text-align: right;\n",
       "    }\n",
       "</style>\n",
       "<table border=\"1\" class=\"dataframe\">\n",
       "  <thead>\n",
       "    <tr style=\"text-align: right;\">\n",
       "      <th></th>\n",
       "      <th>CustomerID</th>\n",
       "      <th>Age</th>\n",
       "      <th>Gender</th>\n",
       "      <th>Tenure</th>\n",
       "      <th>Usage Frequency</th>\n",
       "      <th>Support Calls</th>\n",
       "      <th>Payment Delay</th>\n",
       "      <th>Subscription Type</th>\n",
       "      <th>Contract Length</th>\n",
       "      <th>Total Spend</th>\n",
       "      <th>Last Interaction</th>\n",
       "      <th>Churn</th>\n",
       "    </tr>\n",
       "  </thead>\n",
       "  <tbody>\n",
       "    <tr>\n",
       "      <th>0</th>\n",
       "      <td>1</td>\n",
       "      <td>22</td>\n",
       "      <td>Female</td>\n",
       "      <td>25</td>\n",
       "      <td>14</td>\n",
       "      <td>4</td>\n",
       "      <td>27</td>\n",
       "      <td>Basic</td>\n",
       "      <td>Monthly</td>\n",
       "      <td>598</td>\n",
       "      <td>9</td>\n",
       "      <td>1</td>\n",
       "    </tr>\n",
       "    <tr>\n",
       "      <th>1</th>\n",
       "      <td>2</td>\n",
       "      <td>41</td>\n",
       "      <td>Female</td>\n",
       "      <td>28</td>\n",
       "      <td>28</td>\n",
       "      <td>7</td>\n",
       "      <td>13</td>\n",
       "      <td>Standard</td>\n",
       "      <td>Monthly</td>\n",
       "      <td>584</td>\n",
       "      <td>20</td>\n",
       "      <td>0</td>\n",
       "    </tr>\n",
       "    <tr>\n",
       "      <th>2</th>\n",
       "      <td>3</td>\n",
       "      <td>47</td>\n",
       "      <td>Male</td>\n",
       "      <td>27</td>\n",
       "      <td>10</td>\n",
       "      <td>2</td>\n",
       "      <td>29</td>\n",
       "      <td>Premium</td>\n",
       "      <td>Annual</td>\n",
       "      <td>757</td>\n",
       "      <td>21</td>\n",
       "      <td>0</td>\n",
       "    </tr>\n",
       "    <tr>\n",
       "      <th>3</th>\n",
       "      <td>4</td>\n",
       "      <td>35</td>\n",
       "      <td>Male</td>\n",
       "      <td>9</td>\n",
       "      <td>12</td>\n",
       "      <td>5</td>\n",
       "      <td>17</td>\n",
       "      <td>Premium</td>\n",
       "      <td>Quarterly</td>\n",
       "      <td>232</td>\n",
       "      <td>18</td>\n",
       "      <td>0</td>\n",
       "    </tr>\n",
       "    <tr>\n",
       "      <th>4</th>\n",
       "      <td>5</td>\n",
       "      <td>53</td>\n",
       "      <td>Female</td>\n",
       "      <td>58</td>\n",
       "      <td>24</td>\n",
       "      <td>9</td>\n",
       "      <td>2</td>\n",
       "      <td>Standard</td>\n",
       "      <td>Annual</td>\n",
       "      <td>533</td>\n",
       "      <td>18</td>\n",
       "      <td>0</td>\n",
       "    </tr>\n",
       "  </tbody>\n",
       "</table>\n",
       "</div>"
      ],
      "text/plain": [
       "   CustomerID  Age  Gender  Tenure  Usage Frequency  Support Calls  \\\n",
       "0           1   22  Female      25               14              4   \n",
       "1           2   41  Female      28               28              7   \n",
       "2           3   47    Male      27               10              2   \n",
       "3           4   35    Male       9               12              5   \n",
       "4           5   53  Female      58               24              9   \n",
       "\n",
       "   Payment Delay Subscription Type Contract Length  Total Spend  \\\n",
       "0             27             Basic         Monthly          598   \n",
       "1             13          Standard         Monthly          584   \n",
       "2             29           Premium          Annual          757   \n",
       "3             17           Premium       Quarterly          232   \n",
       "4              2          Standard          Annual          533   \n",
       "\n",
       "   Last Interaction  Churn  \n",
       "0                 9      1  \n",
       "1                20      0  \n",
       "2                21      0  \n",
       "3                18      0  \n",
       "4                18      0  "
      ]
     },
     "execution_count": 47,
     "metadata": {},
     "output_type": "execute_result"
    }
   ],
   "source": [
    "Customer.head()"
   ]
  },
  {
   "cell_type": "code",
   "execution_count": 67,
   "id": "6750ba59-2373-4fb4-a8b6-43c5bf53d9a4",
   "metadata": {},
   "outputs": [],
   "source": [
    "trend_in_payment_delays = Customer.groupby(\"Contract Length\")[\"Payment Delay\"].mean().sort_values()"
   ]
  },
  {
   "cell_type": "code",
   "execution_count": 69,
   "id": "9c437ee0-fc16-4678-b4d1-f5a3802d5e4a",
   "metadata": {},
   "outputs": [
    {
     "data": {
      "text/plain": [
       "Contract Length\n",
       "Annual       16.932788\n",
       "Quarterly    16.970145\n",
       "Monthly      17.482784\n",
       "Name: Payment Delay, dtype: float64"
      ]
     },
     "execution_count": 69,
     "metadata": {},
     "output_type": "execute_result"
    }
   ],
   "source": [
    "trend_in_payment_delays"
   ]
  },
  {
   "cell_type": "code",
   "execution_count": null,
   "id": "342176d6-93e0-4af8-9eb0-d6bf998bd81f",
   "metadata": {},
   "outputs": [],
   "source": []
  },
  {
   "cell_type": "code",
   "execution_count": 73,
   "id": "044c3e58-a4fc-4bb2-8d86-58cf2355c650",
   "metadata": {},
   "outputs": [
    {
     "data": {
      "text/plain": [
       "<Axes: title={'center': 'Trend in payment delays based on contract length'}, xlabel='Contract Length', ylabel='Payment Delay'>"
      ]
     },
     "execution_count": 73,
     "metadata": {},
     "output_type": "execute_result"
    },
    {
     "data": {
      "image/png": "[encoded data removed]",
      "text/plain": [
       "<Figure size 640x480 with 1 Axes>"
      ]
     },
     "metadata": {},
     "output_type": "display_data"
    }
   ],
   "source": [
    "plt.title(\"Trend in payment delays based on contract length\")\n",
    "sns.barplot(data=trend_in_payment_delays)"
   ]
  },
  {
   "cell_type": "code",
   "execution_count": null,
   "id": "35dff79a-9f4d-4500-90d2-807378675ef2",
   "metadata": {},
   "outputs": [],
   "source": []
  },
  {
   "cell_type": "code",
   "execution_count": null,
   "id": "13c7eaf6-3326-49d2-80af-8576b893a7f5",
   "metadata": {},
   "outputs": [],
   "source": []
  },
  {
   "cell_type": "markdown",
   "id": "ed9329d0-e493-4ab5-9d78-c29aa7198b54",
   "metadata": {},
   "source": [
    "# Usage and Support Section:\n",
    "\n",
    "1) What is the average usage frequency of customers?\n",
    "2) Which group of customers (by age, subscription type, or contract length) has the highest usage frequency?\n",
    "3) Which customers make the most support calls?\n",
    "4) Is there a relationship between support calls and payment delays?"
   ]
  },
  {
   "cell_type": "code",
   "execution_count": null,
   "id": "030f85b6-4442-4eb8-b859-13919f0ecfac",
   "metadata": {},
   "outputs": [],
   "source": []
  },
  {
   "cell_type": "markdown",
   "id": "124c4867-32aa-4ef4-873f-cd6354211d1f",
   "metadata": {},
   "source": [
    "## 1) What is the average usage frequency of customers?"
   ]
  },
  {
   "cell_type": "code",
   "execution_count": 76,
   "id": "bd934571-2d9b-4463-8e12-327ce629b087",
   "metadata": {},
   "outputs": [
    {
     "data": {
      "text/html": [
       "<div>\n",
       "<style scoped>\n",
       "    .dataframe tbody tr th:only-of-type {\n",
       "        vertical-align: middle;\n",
       "    }\n",
       "\n",
       "    .dataframe tbody tr th {\n",
       "        vertical-align: top;\n",
       "    }\n",
       "\n",
       "    .dataframe thead th {\n",
       "        text-align: right;\n",
       "    }\n",
       "</style>\n",
       "<table border=\"1\" class=\"dataframe\">\n",
       "  <thead>\n",
       "    <tr style=\"text-align: right;\">\n",
       "      <th></th>\n",
       "      <th>CustomerID</th>\n",
       "      <th>Age</th>\n",
       "      <th>Gender</th>\n",
       "      <th>Tenure</th>\n",
       "      <th>Usage Frequency</th>\n",
       "      <th>Support Calls</th>\n",
       "      <th>Payment Delay</th>\n",
       "      <th>Subscription Type</th>\n",
       "      <th>Contract Length</th>\n",
       "      <th>Total Spend</th>\n",
       "      <th>Last Interaction</th>\n",
       "      <th>Churn</th>\n",
       "    </tr>\n",
       "  </thead>\n",
       "  <tbody>\n",
       "    <tr>\n",
       "      <th>0</th>\n",
       "      <td>1</td>\n",
       "      <td>22</td>\n",
       "      <td>Female</td>\n",
       "      <td>25</td>\n",
       "      <td>14</td>\n",
       "      <td>4</td>\n",
       "      <td>27</td>\n",
       "      <td>Basic</td>\n",
       "      <td>Monthly</td>\n",
       "      <td>598</td>\n",
       "      <td>9</td>\n",
       "      <td>1</td>\n",
       "    </tr>\n",
       "    <tr>\n",
       "      <th>1</th>\n",
       "      <td>2</td>\n",
       "      <td>41</td>\n",
       "      <td>Female</td>\n",
       "      <td>28</td>\n",
       "      <td>28</td>\n",
       "      <td>7</td>\n",
       "      <td>13</td>\n",
       "      <td>Standard</td>\n",
       "      <td>Monthly</td>\n",
       "      <td>584</td>\n",
       "      <td>20</td>\n",
       "      <td>0</td>\n",
       "    </tr>\n",
       "    <tr>\n",
       "      <th>2</th>\n",
       "      <td>3</td>\n",
       "      <td>47</td>\n",
       "      <td>Male</td>\n",
       "      <td>27</td>\n",
       "      <td>10</td>\n",
       "      <td>2</td>\n",
       "      <td>29</td>\n",
       "      <td>Premium</td>\n",
       "      <td>Annual</td>\n",
       "      <td>757</td>\n",
       "      <td>21</td>\n",
       "      <td>0</td>\n",
       "    </tr>\n",
       "    <tr>\n",
       "      <th>3</th>\n",
       "      <td>4</td>\n",
       "      <td>35</td>\n",
       "      <td>Male</td>\n",
       "      <td>9</td>\n",
       "      <td>12</td>\n",
       "      <td>5</td>\n",
       "      <td>17</td>\n",
       "      <td>Premium</td>\n",
       "      <td>Quarterly</td>\n",
       "      <td>232</td>\n",
       "      <td>18</td>\n",
       "      <td>0</td>\n",
       "    </tr>\n",
       "    <tr>\n",
       "      <th>4</th>\n",
       "      <td>5</td>\n",
       "      <td>53</td>\n",
       "      <td>Female</td>\n",
       "      <td>58</td>\n",
       "      <td>24</td>\n",
       "      <td>9</td>\n",
       "      <td>2</td>\n",
       "      <td>Standard</td>\n",
       "      <td>Annual</td>\n",
       "      <td>533</td>\n",
       "      <td>18</td>\n",
       "      <td>0</td>\n",
       "    </tr>\n",
       "  </tbody>\n",
       "</table>\n",
       "</div>"
      ],
      "text/plain": [
       "   CustomerID  Age  Gender  Tenure  Usage Frequency  Support Calls  \\\n",
       "0           1   22  Female      25               14              4   \n",
       "1           2   41  Female      28               28              7   \n",
       "2           3   47    Male      27               10              2   \n",
       "3           4   35    Male       9               12              5   \n",
       "4           5   53  Female      58               24              9   \n",
       "\n",
       "   Payment Delay Subscription Type Contract Length  Total Spend  \\\n",
       "0             27             Basic         Monthly          598   \n",
       "1             13          Standard         Monthly          584   \n",
       "2             29           Premium          Annual          757   \n",
       "3             17           Premium       Quarterly          232   \n",
       "4              2          Standard          Annual          533   \n",
       "\n",
       "   Last Interaction  Churn  \n",
       "0                 9      1  \n",
       "1                20      0  \n",
       "2                21      0  \n",
       "3                18      0  \n",
       "4                18      0  "
      ]
     },
     "execution_count": 76,
     "metadata": {},
     "output_type": "execute_result"
    }
   ],
   "source": [
    "Customer.head()"
   ]
  },
  {
   "cell_type": "code",
   "execution_count": null,
   "id": "6a34764b-1d76-4f8d-99c5-a223e38187ab",
   "metadata": {},
   "outputs": [],
   "source": []
  },
  {
   "cell_type": "code",
   "execution_count": 80,
   "id": "81c568a8-876f-46a0-b613-c79fbd58cfd3",
   "metadata": {},
   "outputs": [],
   "source": [
    "average_frequency = Customer[\"Usage Frequency\"].mean()"
   ]
  },
  {
   "cell_type": "code",
   "execution_count": 90,
   "id": "1ac68323-06a9-4fa0-a373-9303065e1200",
   "metadata": {},
   "outputs": [
    {
     "data": {
      "text/plain": [
       "15.080234256066113"
      ]
     },
     "execution_count": 90,
     "metadata": {},
     "output_type": "execute_result"
    }
   ],
   "source": [
    "average_frequency"
   ]
  },
  {
   "cell_type": "code",
   "execution_count": null,
   "id": "296d5615-1fa2-4674-90ac-095e67704110",
   "metadata": {},
   "outputs": [],
   "source": []
  },
  {
   "cell_type": "markdown",
   "id": "e8cba065-168a-4412-bb8f-973ced26eb44",
   "metadata": {},
   "source": [
    "## 2) Which group of customers (by age, subscription type, or contract length) has the highest usage frequency?"
   ]
  },
  {
   "cell_type": "code",
   "execution_count": 109,
   "id": "d830ae7e-14cd-44cd-aac3-b7168284b337",
   "metadata": {},
   "outputs": [
    {
     "data": {
      "text/html": [
       "<div>\n",
       "<style scoped>\n",
       "    .dataframe tbody tr th:only-of-type {\n",
       "        vertical-align: middle;\n",
       "    }\n",
       "\n",
       "    .dataframe tbody tr th {\n",
       "        vertical-align: top;\n",
       "    }\n",
       "\n",
       "    .dataframe thead th {\n",
       "        text-align: right;\n",
       "    }\n",
       "</style>\n",
       "<table border=\"1\" class=\"dataframe\">\n",
       "  <thead>\n",
       "    <tr style=\"text-align: right;\">\n",
       "      <th></th>\n",
       "      <th>CustomerID</th>\n",
       "      <th>Age</th>\n",
       "      <th>Gender</th>\n",
       "      <th>Tenure</th>\n",
       "      <th>Usage Frequency</th>\n",
       "      <th>Support Calls</th>\n",
       "      <th>Payment Delay</th>\n",
       "      <th>Subscription Type</th>\n",
       "      <th>Contract Length</th>\n",
       "      <th>Total Spend</th>\n",
       "      <th>Last Interaction</th>\n",
       "      <th>Churn</th>\n",
       "    </tr>\n",
       "  </thead>\n",
       "  <tbody>\n",
       "    <tr>\n",
       "      <th>0</th>\n",
       "      <td>1</td>\n",
       "      <td>22</td>\n",
       "      <td>Female</td>\n",
       "      <td>25</td>\n",
       "      <td>14</td>\n",
       "      <td>4</td>\n",
       "      <td>27</td>\n",
       "      <td>Basic</td>\n",
       "      <td>Monthly</td>\n",
       "      <td>598</td>\n",
       "      <td>9</td>\n",
       "      <td>1</td>\n",
       "    </tr>\n",
       "    <tr>\n",
       "      <th>1</th>\n",
       "      <td>2</td>\n",
       "      <td>41</td>\n",
       "      <td>Female</td>\n",
       "      <td>28</td>\n",
       "      <td>28</td>\n",
       "      <td>7</td>\n",
       "      <td>13</td>\n",
       "      <td>Standard</td>\n",
       "      <td>Monthly</td>\n",
       "      <td>584</td>\n",
       "      <td>20</td>\n",
       "      <td>0</td>\n",
       "    </tr>\n",
       "    <tr>\n",
       "      <th>2</th>\n",
       "      <td>3</td>\n",
       "      <td>47</td>\n",
       "      <td>Male</td>\n",
       "      <td>27</td>\n",
       "      <td>10</td>\n",
       "      <td>2</td>\n",
       "      <td>29</td>\n",
       "      <td>Premium</td>\n",
       "      <td>Annual</td>\n",
       "      <td>757</td>\n",
       "      <td>21</td>\n",
       "      <td>0</td>\n",
       "    </tr>\n",
       "    <tr>\n",
       "      <th>3</th>\n",
       "      <td>4</td>\n",
       "      <td>35</td>\n",
       "      <td>Male</td>\n",
       "      <td>9</td>\n",
       "      <td>12</td>\n",
       "      <td>5</td>\n",
       "      <td>17</td>\n",
       "      <td>Premium</td>\n",
       "      <td>Quarterly</td>\n",
       "      <td>232</td>\n",
       "      <td>18</td>\n",
       "      <td>0</td>\n",
       "    </tr>\n",
       "    <tr>\n",
       "      <th>4</th>\n",
       "      <td>5</td>\n",
       "      <td>53</td>\n",
       "      <td>Female</td>\n",
       "      <td>58</td>\n",
       "      <td>24</td>\n",
       "      <td>9</td>\n",
       "      <td>2</td>\n",
       "      <td>Standard</td>\n",
       "      <td>Annual</td>\n",
       "      <td>533</td>\n",
       "      <td>18</td>\n",
       "      <td>0</td>\n",
       "    </tr>\n",
       "  </tbody>\n",
       "</table>\n",
       "</div>"
      ],
      "text/plain": [
       "   CustomerID  Age  Gender  Tenure  Usage Frequency  Support Calls  \\\n",
       "0           1   22  Female      25               14              4   \n",
       "1           2   41  Female      28               28              7   \n",
       "2           3   47    Male      27               10              2   \n",
       "3           4   35    Male       9               12              5   \n",
       "4           5   53  Female      58               24              9   \n",
       "\n",
       "   Payment Delay Subscription Type Contract Length  Total Spend  \\\n",
       "0             27             Basic         Monthly          598   \n",
       "1             13          Standard         Monthly          584   \n",
       "2             29           Premium          Annual          757   \n",
       "3             17           Premium       Quarterly          232   \n",
       "4              2          Standard          Annual          533   \n",
       "\n",
       "   Last Interaction  Churn  \n",
       "0                 9      1  \n",
       "1                20      0  \n",
       "2                21      0  \n",
       "3                18      0  \n",
       "4                18      0  "
      ]
     },
     "execution_count": 109,
     "metadata": {},
     "output_type": "execute_result"
    }
   ],
   "source": [
    "Customer.head()"
   ]
  },
  {
   "cell_type": "code",
   "execution_count": 96,
   "id": "7f3fe8a7-bdf1-49a0-b50c-2a508b606cbb",
   "metadata": {},
   "outputs": [],
   "source": [
    "usage_by_group = Customer.groupby([\"Subscription Type\", \"Contract Length\", \"Age\"])[\"Usage Frequency\"].mean()"
   ]
  },
  {
   "cell_type": "code",
   "execution_count": 98,
   "id": "a7ff52c2-5259-4518-8973-43da0356102c",
   "metadata": {},
   "outputs": [
    {
     "data": {
      "text/plain": [
       "Subscription Type  Contract Length  Age\n",
       "Basic              Annual           18     15.906832\n",
       "                                    19     16.006369\n",
       "                                    20     13.792308\n",
       "                                    21     15.538462\n",
       "                                    22     14.778571\n",
       "                                             ...    \n",
       "Standard           Quarterly        61     15.994083\n",
       "                                    62     14.743243\n",
       "                                    63     15.312500\n",
       "                                    64     14.092593\n",
       "                                    65     14.848101\n",
       "Name: Usage Frequency, Length: 432, dtype: float64"
      ]
     },
     "execution_count": 98,
     "metadata": {},
     "output_type": "execute_result"
    }
   ],
   "source": [
    "usage_by_group"
   ]
  },
  {
   "cell_type": "code",
   "execution_count": null,
   "id": "a510210c-cecb-40a0-8a87-59cdd1e5d5bc",
   "metadata": {},
   "outputs": [],
   "source": []
  },
  {
   "cell_type": "code",
   "execution_count": 100,
   "id": "2a8c60d1-008d-458b-933c-c713e6f50945",
   "metadata": {},
   "outputs": [],
   "source": [
    "highest_usage_group = usage_by_group.idxmax()"
   ]
  },
  {
   "cell_type": "code",
   "execution_count": 102,
   "id": "07418f3e-8e9c-405f-aa2c-3771ce115705",
   "metadata": {},
   "outputs": [
    {
     "data": {
      "text/plain": [
       "('Premium', 'Monthly', 24)"
      ]
     },
     "execution_count": 102,
     "metadata": {},
     "output_type": "execute_result"
    }
   ],
   "source": [
    "highest_usage_group"
   ]
  },
  {
   "cell_type": "code",
   "execution_count": 104,
   "id": "1113acba-4810-4d52-97d8-53fb986dbd96",
   "metadata": {},
   "outputs": [],
   "source": [
    "highest_usage_frequency = usage_by_group.max()"
   ]
  },
  {
   "cell_type": "code",
   "execution_count": 106,
   "id": "0eae36d1-2ba7-4c85-9bdc-8fb015774a6e",
   "metadata": {},
   "outputs": [
    {
     "data": {
      "text/plain": [
       "17.389705882352942"
      ]
     },
     "execution_count": 106,
     "metadata": {},
     "output_type": "execute_result"
    }
   ],
   "source": [
    "highest_usage_frequency"
   ]
  },
  {
   "cell_type": "code",
   "execution_count": null,
   "id": "4c51247d-8da3-4ffe-b545-57bd8271c724",
   "metadata": {},
   "outputs": [],
   "source": []
  },
  {
   "cell_type": "code",
   "execution_count": null,
   "id": "a8a2eb63-eb22-48f5-8e53-c67326f01009",
   "metadata": {},
   "outputs": [],
   "source": []
  },
  {
   "cell_type": "markdown",
   "id": "8eab3419-a17c-40f1-b81b-09234c87ee7a",
   "metadata": {},
   "source": [
    "## 3) Which customers make the most support calls?"
   ]
  },
  {
   "cell_type": "code",
   "execution_count": 112,
   "id": "8dd4434d-699d-4419-8d07-77193ef4af46",
   "metadata": {},
   "outputs": [
    {
     "data": {
      "text/html": [
       "<div>\n",
       "<style scoped>\n",
       "    .dataframe tbody tr th:only-of-type {\n",
       "        vertical-align: middle;\n",
       "    }\n",
       "\n",
       "    .dataframe tbody tr th {\n",
       "        vertical-align: top;\n",
       "    }\n",
       "\n",
       "    .dataframe thead th {\n",
       "        text-align: right;\n",
       "    }\n",
       "</style>\n",
       "<table border=\"1\" class=\"dataframe\">\n",
       "  <thead>\n",
       "    <tr style=\"text-align: right;\">\n",
       "      <th></th>\n",
       "      <th>CustomerID</th>\n",
       "      <th>Age</th>\n",
       "      <th>Gender</th>\n",
       "      <th>Tenure</th>\n",
       "      <th>Usage Frequency</th>\n",
       "      <th>Support Calls</th>\n",
       "      <th>Payment Delay</th>\n",
       "      <th>Subscription Type</th>\n",
       "      <th>Contract Length</th>\n",
       "      <th>Total Spend</th>\n",
       "      <th>Last Interaction</th>\n",
       "      <th>Churn</th>\n",
       "    </tr>\n",
       "  </thead>\n",
       "  <tbody>\n",
       "    <tr>\n",
       "      <th>0</th>\n",
       "      <td>1</td>\n",
       "      <td>22</td>\n",
       "      <td>Female</td>\n",
       "      <td>25</td>\n",
       "      <td>14</td>\n",
       "      <td>4</td>\n",
       "      <td>27</td>\n",
       "      <td>Basic</td>\n",
       "      <td>Monthly</td>\n",
       "      <td>598</td>\n",
       "      <td>9</td>\n",
       "      <td>1</td>\n",
       "    </tr>\n",
       "    <tr>\n",
       "      <th>1</th>\n",
       "      <td>2</td>\n",
       "      <td>41</td>\n",
       "      <td>Female</td>\n",
       "      <td>28</td>\n",
       "      <td>28</td>\n",
       "      <td>7</td>\n",
       "      <td>13</td>\n",
       "      <td>Standard</td>\n",
       "      <td>Monthly</td>\n",
       "      <td>584</td>\n",
       "      <td>20</td>\n",
       "      <td>0</td>\n",
       "    </tr>\n",
       "    <tr>\n",
       "      <th>2</th>\n",
       "      <td>3</td>\n",
       "      <td>47</td>\n",
       "      <td>Male</td>\n",
       "      <td>27</td>\n",
       "      <td>10</td>\n",
       "      <td>2</td>\n",
       "      <td>29</td>\n",
       "      <td>Premium</td>\n",
       "      <td>Annual</td>\n",
       "      <td>757</td>\n",
       "      <td>21</td>\n",
       "      <td>0</td>\n",
       "    </tr>\n",
       "    <tr>\n",
       "      <th>3</th>\n",
       "      <td>4</td>\n",
       "      <td>35</td>\n",
       "      <td>Male</td>\n",
       "      <td>9</td>\n",
       "      <td>12</td>\n",
       "      <td>5</td>\n",
       "      <td>17</td>\n",
       "      <td>Premium</td>\n",
       "      <td>Quarterly</td>\n",
       "      <td>232</td>\n",
       "      <td>18</td>\n",
       "      <td>0</td>\n",
       "    </tr>\n",
       "    <tr>\n",
       "      <th>4</th>\n",
       "      <td>5</td>\n",
       "      <td>53</td>\n",
       "      <td>Female</td>\n",
       "      <td>58</td>\n",
       "      <td>24</td>\n",
       "      <td>9</td>\n",
       "      <td>2</td>\n",
       "      <td>Standard</td>\n",
       "      <td>Annual</td>\n",
       "      <td>533</td>\n",
       "      <td>18</td>\n",
       "      <td>0</td>\n",
       "    </tr>\n",
       "  </tbody>\n",
       "</table>\n",
       "</div>"
      ],
      "text/plain": [
       "   CustomerID  Age  Gender  Tenure  Usage Frequency  Support Calls  \\\n",
       "0           1   22  Female      25               14              4   \n",
       "1           2   41  Female      28               28              7   \n",
       "2           3   47    Male      27               10              2   \n",
       "3           4   35    Male       9               12              5   \n",
       "4           5   53  Female      58               24              9   \n",
       "\n",
       "   Payment Delay Subscription Type Contract Length  Total Spend  \\\n",
       "0             27             Basic         Monthly          598   \n",
       "1             13          Standard         Monthly          584   \n",
       "2             29           Premium          Annual          757   \n",
       "3             17           Premium       Quarterly          232   \n",
       "4              2          Standard          Annual          533   \n",
       "\n",
       "   Last Interaction  Churn  \n",
       "0                 9      1  \n",
       "1                20      0  \n",
       "2                21      0  \n",
       "3                18      0  \n",
       "4                18      0  "
      ]
     },
     "execution_count": 112,
     "metadata": {},
     "output_type": "execute_result"
    }
   ],
   "source": [
    "Customer.head()"
   ]
  },
  {
   "cell_type": "code",
   "execution_count": null,
   "id": "46c81ec0-c91b-4c05-aa52-aaeaaf07278c",
   "metadata": {},
   "outputs": [],
   "source": []
  },
  {
   "cell_type": "code",
   "execution_count": 114,
   "id": "cc56499c-91a8-4456-acd9-94d3a71dc206",
   "metadata": {},
   "outputs": [],
   "source": [
    "most_support_calls = Customer[Customer[\"Support Calls\"] == Customer[\"Support Calls\"].max()]"
   ]
  },
  {
   "cell_type": "code",
   "execution_count": 122,
   "id": "caae5479-6e33-4d4a-b1a9-011118a0e2c0",
   "metadata": {},
   "outputs": [
    {
     "data": {
      "text/html": [
       "<div>\n",
       "<style scoped>\n",
       "    .dataframe tbody tr th:only-of-type {\n",
       "        vertical-align: middle;\n",
       "    }\n",
       "\n",
       "    .dataframe tbody tr th {\n",
       "        vertical-align: top;\n",
       "    }\n",
       "\n",
       "    .dataframe thead th {\n",
       "        text-align: right;\n",
       "    }\n",
       "</style>\n",
       "<table border=\"1\" class=\"dataframe\">\n",
       "  <thead>\n",
       "    <tr style=\"text-align: right;\">\n",
       "      <th></th>\n",
       "      <th>CustomerID</th>\n",
       "      <th>Support Calls</th>\n",
       "    </tr>\n",
       "  </thead>\n",
       "  <tbody>\n",
       "    <tr>\n",
       "      <th>5</th>\n",
       "      <td>6</td>\n",
       "      <td>10</td>\n",
       "    </tr>\n",
       "    <tr>\n",
       "      <th>8</th>\n",
       "      <td>9</td>\n",
       "      <td>10</td>\n",
       "    </tr>\n",
       "    <tr>\n",
       "      <th>48</th>\n",
       "      <td>49</td>\n",
       "      <td>10</td>\n",
       "    </tr>\n",
       "    <tr>\n",
       "      <th>54</th>\n",
       "      <td>55</td>\n",
       "      <td>10</td>\n",
       "    </tr>\n",
       "    <tr>\n",
       "      <th>61</th>\n",
       "      <td>62</td>\n",
       "      <td>10</td>\n",
       "    </tr>\n",
       "    <tr>\n",
       "      <th>...</th>\n",
       "      <td>...</td>\n",
       "      <td>...</td>\n",
       "    </tr>\n",
       "    <tr>\n",
       "      <th>64337</th>\n",
       "      <td>64338</td>\n",
       "      <td>10</td>\n",
       "    </tr>\n",
       "    <tr>\n",
       "      <th>64351</th>\n",
       "      <td>64352</td>\n",
       "      <td>10</td>\n",
       "    </tr>\n",
       "    <tr>\n",
       "      <th>64358</th>\n",
       "      <td>64359</td>\n",
       "      <td>10</td>\n",
       "    </tr>\n",
       "    <tr>\n",
       "      <th>64363</th>\n",
       "      <td>64364</td>\n",
       "      <td>10</td>\n",
       "    </tr>\n",
       "    <tr>\n",
       "      <th>64367</th>\n",
       "      <td>64368</td>\n",
       "      <td>10</td>\n",
       "    </tr>\n",
       "  </tbody>\n",
       "</table>\n",
       "<p>6587 rows × 2 columns</p>\n",
       "</div>"
      ],
      "text/plain": [
       "       CustomerID  Support Calls\n",
       "5               6             10\n",
       "8               9             10\n",
       "48             49             10\n",
       "54             55             10\n",
       "61             62             10\n",
       "...           ...            ...\n",
       "64337       64338             10\n",
       "64351       64352             10\n",
       "64358       64359             10\n",
       "64363       64364             10\n",
       "64367       64368             10\n",
       "\n",
       "[6587 rows x 2 columns]"
      ]
     },
     "execution_count": 122,
     "metadata": {},
     "output_type": "execute_result"
    }
   ],
   "source": [
    "most_support_calls[[\"CustomerID\", \"Support Calls\"]]"
   ]
  },
  {
   "cell_type": "code",
   "execution_count": null,
   "id": "b5096cd5-d1e8-47e7-a884-9eef4a134657",
   "metadata": {},
   "outputs": [],
   "source": []
  },
  {
   "cell_type": "code",
   "execution_count": null,
   "id": "7c6b9b82-56e2-4478-b97c-4b220cf57e57",
   "metadata": {},
   "outputs": [],
   "source": []
  },
  {
   "cell_type": "markdown",
   "id": "94c1f4a1-f31f-427e-845c-9f1f9d5b9fab",
   "metadata": {},
   "source": [
    "## 4) Is there a relationship between support calls and payment delays?"
   ]
  },
  {
   "cell_type": "code",
   "execution_count": 132,
   "id": "8f741c75-6dfe-4a36-bee5-f141f02f2d39",
   "metadata": {},
   "outputs": [
    {
     "data": {
      "text/html": [
       "<div>\n",
       "<style scoped>\n",
       "    .dataframe tbody tr th:only-of-type {\n",
       "        vertical-align: middle;\n",
       "    }\n",
       "\n",
       "    .dataframe tbody tr th {\n",
       "        vertical-align: top;\n",
       "    }\n",
       "\n",
       "    .dataframe thead th {\n",
       "        text-align: right;\n",
       "    }\n",
       "</style>\n",
       "<table border=\"1\" class=\"dataframe\">\n",
       "  <thead>\n",
       "    <tr style=\"text-align: right;\">\n",
       "      <th></th>\n",
       "      <th>CustomerID</th>\n",
       "      <th>Age</th>\n",
       "      <th>Gender</th>\n",
       "      <th>Tenure</th>\n",
       "      <th>Usage Frequency</th>\n",
       "      <th>Support Calls</th>\n",
       "      <th>Payment Delay</th>\n",
       "      <th>Subscription Type</th>\n",
       "      <th>Contract Length</th>\n",
       "      <th>Total Spend</th>\n",
       "      <th>Last Interaction</th>\n",
       "      <th>Churn</th>\n",
       "    </tr>\n",
       "  </thead>\n",
       "  <tbody>\n",
       "    <tr>\n",
       "      <th>0</th>\n",
       "      <td>1</td>\n",
       "      <td>22</td>\n",
       "      <td>Female</td>\n",
       "      <td>25</td>\n",
       "      <td>14</td>\n",
       "      <td>4</td>\n",
       "      <td>27</td>\n",
       "      <td>Basic</td>\n",
       "      <td>Monthly</td>\n",
       "      <td>598</td>\n",
       "      <td>9</td>\n",
       "      <td>1</td>\n",
       "    </tr>\n",
       "    <tr>\n",
       "      <th>1</th>\n",
       "      <td>2</td>\n",
       "      <td>41</td>\n",
       "      <td>Female</td>\n",
       "      <td>28</td>\n",
       "      <td>28</td>\n",
       "      <td>7</td>\n",
       "      <td>13</td>\n",
       "      <td>Standard</td>\n",
       "      <td>Monthly</td>\n",
       "      <td>584</td>\n",
       "      <td>20</td>\n",
       "      <td>0</td>\n",
       "    </tr>\n",
       "    <tr>\n",
       "      <th>2</th>\n",
       "      <td>3</td>\n",
       "      <td>47</td>\n",
       "      <td>Male</td>\n",
       "      <td>27</td>\n",
       "      <td>10</td>\n",
       "      <td>2</td>\n",
       "      <td>29</td>\n",
       "      <td>Premium</td>\n",
       "      <td>Annual</td>\n",
       "      <td>757</td>\n",
       "      <td>21</td>\n",
       "      <td>0</td>\n",
       "    </tr>\n",
       "    <tr>\n",
       "      <th>3</th>\n",
       "      <td>4</td>\n",
       "      <td>35</td>\n",
       "      <td>Male</td>\n",
       "      <td>9</td>\n",
       "      <td>12</td>\n",
       "      <td>5</td>\n",
       "      <td>17</td>\n",
       "      <td>Premium</td>\n",
       "      <td>Quarterly</td>\n",
       "      <td>232</td>\n",
       "      <td>18</td>\n",
       "      <td>0</td>\n",
       "    </tr>\n",
       "    <tr>\n",
       "      <th>4</th>\n",
       "      <td>5</td>\n",
       "      <td>53</td>\n",
       "      <td>Female</td>\n",
       "      <td>58</td>\n",
       "      <td>24</td>\n",
       "      <td>9</td>\n",
       "      <td>2</td>\n",
       "      <td>Standard</td>\n",
       "      <td>Annual</td>\n",
       "      <td>533</td>\n",
       "      <td>18</td>\n",
       "      <td>0</td>\n",
       "    </tr>\n",
       "  </tbody>\n",
       "</table>\n",
       "</div>"
      ],
      "text/plain": [
       "   CustomerID  Age  Gender  Tenure  Usage Frequency  Support Calls  \\\n",
       "0           1   22  Female      25               14              4   \n",
       "1           2   41  Female      28               28              7   \n",
       "2           3   47    Male      27               10              2   \n",
       "3           4   35    Male       9               12              5   \n",
       "4           5   53  Female      58               24              9   \n",
       "\n",
       "   Payment Delay Subscription Type Contract Length  Total Spend  \\\n",
       "0             27             Basic         Monthly          598   \n",
       "1             13          Standard         Monthly          584   \n",
       "2             29           Premium          Annual          757   \n",
       "3             17           Premium       Quarterly          232   \n",
       "4              2          Standard          Annual          533   \n",
       "\n",
       "   Last Interaction  Churn  \n",
       "0                 9      1  \n",
       "1                20      0  \n",
       "2                21      0  \n",
       "3                18      0  \n",
       "4                18      0  "
      ]
     },
     "execution_count": 132,
     "metadata": {},
     "output_type": "execute_result"
    }
   ],
   "source": [
    "Customer.head()"
   ]
  },
  {
   "cell_type": "code",
   "execution_count": null,
   "id": "d127529e-6abf-4c63-ace5-a8afe3f0e8aa",
   "metadata": {},
   "outputs": [],
   "source": []
  },
  {
   "cell_type": "code",
   "execution_count": 138,
   "id": "ae1dfe38-7609-49ae-b58c-8307d50d50e9",
   "metadata": {},
   "outputs": [],
   "source": [
    "Relationship_between = Customer[\"Support Calls\"].corr(Customer[\"Payment Delay\"])"
   ]
  },
  {
   "cell_type": "code",
   "execution_count": 140,
   "id": "82066cb1-c721-4d12-a41c-108132d70ece",
   "metadata": {},
   "outputs": [
    {
     "data": {
      "text/plain": [
       "0.06429821090583573"
      ]
     },
     "execution_count": 140,
     "metadata": {},
     "output_type": "execute_result"
    }
   ],
   "source": [
    "Relationship_between "
   ]
  },
  {
   "cell_type": "code",
   "execution_count": null,
   "id": "2f781fc1-312c-4778-bed1-f147cb094fec",
   "metadata": {},
   "outputs": [],
   "source": []
  }
 ],
 "metadata": {
  "kernelspec": {
   "display_name": "Python 3 (ipykernel)",
   "language": "python",
   "name": "python3"
  },
  "language_info": {
   "codemirror_mode": {
    "name": "ipython",
    "version": 3
   },
   "file_extension": ".py",
   "mimetype": "text/x-python",
   "name": "python",
   "nbconvert_exporter": "python",
   "pygments_lexer": "ipython3",
   "version": "3.12.4"
  }
 },
 "nbformat": 4,
 "nbformat_minor": 5
}
